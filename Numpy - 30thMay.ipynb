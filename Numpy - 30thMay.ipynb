{
 "cells": [
  {
   "cell_type": "markdown",
   "id": "55e1e412-f6b9-4d3a-bb8c-9c7b3db5b825",
   "metadata": {},
   "source": [
    "Multiple ways of creating arrays"
   ]
  },
  {
   "cell_type": "code",
   "execution_count": 15,
   "id": "45b08ab3-c93a-4e0b-9a3f-5767729c95d2",
   "metadata": {},
   "outputs": [],
   "source": [
    "import numpy as np"
   ]
  },
  {
   "cell_type": "code",
   "execution_count": 4,
   "id": "ca59de03-7875-421a-9fca-b1b8fc00c255",
   "metadata": {},
   "outputs": [
    {
     "name": "stdout",
     "output_type": "stream",
     "text": [
      "[1. 1. 1. 1. 1.]\n"
     ]
    }
   ],
   "source": [
    "#create array with 0's and ones methods\n",
    "\n",
    "arr_ones=np.ones(5)   #float by default\n",
    "print(arr_ones)\n",
    "\n"
   ]
  },
  {
   "cell_type": "code",
   "execution_count": 16,
   "id": "ac716a47-482e-460d-85a6-842d90393c10",
   "metadata": {},
   "outputs": [
    {
     "name": "stdout",
     "output_type": "stream",
     "text": [
      "[[[ 1  2  3]\n",
      "  [ 4  5  6]]\n",
      "\n",
      " [[ 7  8  9]\n",
      "  [10 11 12]]]\n"
     ]
    }
   ],
   "source": [
    "#create a 2D array\n",
    "\n",
    "twod_array=np.array([[[1,2,3],[4,5,6]],[[7,8,9],[10,11,12]]])\n",
    "\n",
    "print(twod_array)"
   ]
  },
  {
   "cell_type": "code",
   "execution_count": 17,
   "id": "c205887d-dd79-4448-856e-0c8b3e0e96d1",
   "metadata": {},
   "outputs": [
    {
     "data": {
      "text/plain": [
       "3"
      ]
     },
     "execution_count": 17,
     "metadata": {},
     "output_type": "execute_result"
    }
   ],
   "source": [
    "#check array dimenions\n",
    "twod_array.ndim"
   ]
  },
  {
   "cell_type": "code",
   "execution_count": 21,
   "id": "28c01434-1ac6-4f57-aa28-1a76cd178588",
   "metadata": {},
   "outputs": [
    {
     "ename": "SyntaxError",
     "evalue": "invalid syntax. Perhaps you forgot a comma? (658235685.py, line 1)",
     "output_type": "error",
     "traceback": [
      "\u001b[1;36m  Cell \u001b[1;32mIn[21], line 1\u001b[1;36m\u001b[0m\n\u001b[1;33m    arr = np.array([[[1, 2, 3, 4],[1,2,3,4]]] ndmin=5)\u001b[0m\n\u001b[1;37m                   ^\u001b[0m\n\u001b[1;31mSyntaxError\u001b[0m\u001b[1;31m:\u001b[0m invalid syntax. Perhaps you forgot a comma?\n"
     ]
    }
   ],
   "source": []
  },
  {
   "cell_type": "code",
   "execution_count": 3,
   "id": "6b075263-d456-4c3b-9420-0377844cdfe6",
   "metadata": {},
   "outputs": [
    {
     "name": "stdout",
     "output_type": "stream",
     "text": [
      "{1, 2, 3, 4}\n"
     ]
    },
    {
     "data": {
      "text/plain": [
       "array({1, 2, 3, 4}, dtype=object)"
      ]
     },
     "execution_count": 3,
     "metadata": {},
     "output_type": "execute_result"
    }
   ],
   "source": [
    "#create 1D array using array method\n",
    "\n",
    "arr=np.array({1,2,3,4})\n",
    "print(arr)\n",
    "arr\n"
   ]
  },
  {
   "cell_type": "code",
   "execution_count": 5,
   "id": "abc4b616-4269-4846-b0dc-4e81543f895a",
   "metadata": {},
   "outputs": [
    {
     "name": "stdout",
     "output_type": "stream",
     "text": [
      "[1 1 1 1 1]\n"
     ]
    }
   ],
   "source": [
    "#create array with 0's and ones methods\n",
    "\n",
    "arr_ones=np.ones(5,dtype=int)   #use dtype for int\n",
    "print(arr_ones)"
   ]
  },
  {
   "cell_type": "code",
   "execution_count": 9,
   "id": "41f53d41-3666-4250-9979-350b4801d645",
   "metadata": {},
   "outputs": [
    {
     "name": "stdout",
     "output_type": "stream",
     "text": [
      "[1 1 1 1 1]\n"
     ]
    }
   ],
   "source": [
    "arr=np.ones_like(arr_ones)  # creates arrays similar to existing array\n",
    "print(arr)"
   ]
  },
  {
   "cell_type": "code",
   "execution_count": 10,
   "id": "d3c1ffc4-b684-4d32-87f5-9a3d238d67c6",
   "metadata": {},
   "outputs": [
    {
     "name": "stdout",
     "output_type": "stream",
     "text": [
      "[[0.32627394 0.82209763 0.95748365]\n",
      " [0.28303126 0.80125288 0.69189789]\n",
      " [0.443299   0.6865318  0.66619204]]\n"
     ]
    }
   ],
   "source": [
    "rand_arr=np.random.rand(3,3)  # creates a 3x3 array with random float values\n",
    "print(rand_arr)"
   ]
  },
  {
   "cell_type": "code",
   "execution_count": 11,
   "id": "8dc0fcb9-2ca5-4e40-b1ad-dcafcd669b1c",
   "metadata": {},
   "outputs": [
    {
     "name": "stdout",
     "output_type": "stream",
     "text": [
      "[3 3 8 5 3]\n"
     ]
    }
   ],
   "source": [
    "rand_arr_int=np.random.randint(1,10,5)  #randint(low, high=None, size=None, dtype=int)\n",
    "print(rand_arr_int)"
   ]
  },
  {
   "cell_type": "code",
   "execution_count": 23,
   "id": "586d5641-0548-4a32-b3c9-7e8e1e4cb4ba",
   "metadata": {},
   "outputs": [
    {
     "name": "stdout",
     "output_type": "stream",
     "text": [
      "[[  2   3  33   4  45]\n",
      " [ 23  45  56  66   2]\n",
      " [357 523  32  24   2]\n",
      " [ 32  32  44  33 234]]\n"
     ]
    },
    {
     "data": {
      "text/plain": [
       "2"
      ]
     },
     "execution_count": 23,
     "metadata": {},
     "output_type": "execute_result"
    }
   ],
   "source": [
    "arr=np.array ( [[2,3,33,4,45],[23,45,56,66,2],[357,523,32,24,2],[32,32,44,33,234]])\n",
    "print(arr)\n",
    "arr.ndim"
   ]
  },
  {
   "cell_type": "code",
   "execution_count": 27,
   "id": "7f7713f0-c984-4bdd-b93c-7f0333ce1334",
   "metadata": {},
   "outputs": [
    {
     "name": "stdout",
     "output_type": "stream",
     "text": [
      "[1. 2. 3.]\n",
      "[ True False  True False]\n",
      "[1.+0.j 0.+0.j 1.+0.j 4.+0.j]\n"
     ]
    }
   ],
   "source": [
    "#array with different data types [float, complex, bool\n",
    "\n",
    "float_arr=np.array([1,2,3],dtype=float)\n",
    "print(float_arr)\n",
    "\n",
    "bool_arr=np.array([1,0,1,0],dtype=bool)\n",
    "print(bool_arr)\n",
    "\n",
    "bool_arr=np.array([1,0,1,4],dtype=complex)\n",
    "print(bool_arr)"
   ]
  },
  {
   "cell_type": "code",
   "execution_count": 28,
   "id": "a90e7569-b59c-43f9-bab8-d60be3fcc6ef",
   "metadata": {},
   "outputs": [
    {
     "data": {
      "text/plain": [
       "array([[1., 0., 0.],\n",
       "       [0., 1., 0.],\n",
       "       [0., 0., 1.]])"
      ]
     },
     "execution_count": 28,
     "metadata": {},
     "output_type": "execute_result"
    }
   ],
   "source": [
    "np.identity(3)  #created array with 1's in the diagnol part of the matrix"
   ]
  },
  {
   "cell_type": "code",
   "execution_count": 43,
   "id": "91bc29c0-9f28-444b-a104-9086ae26c6b9",
   "metadata": {},
   "outputs": [
    {
     "name": "stdout",
     "output_type": "stream",
     "text": [
      "[[ 1  2  3  4  5]\n",
      " [ 6  7  8  9 10]\n",
      " [11 12 13 14 15]\n",
      " [16 17 18 19 20]]\n",
      "[[[0 1]\n",
      "  [2 3]]\n",
      "\n",
      " [[4 5]\n",
      "  [6 7]]]\n"
     ]
    },
    {
     "data": {
      "text/plain": [
       "3"
      ]
     },
     "execution_count": 43,
     "metadata": {},
     "output_type": "execute_result"
    }
   ],
   "source": [
    "##arange and reshapw\n",
    "\n",
    "\n",
    "twoD=np.arange(1,21).reshape(4,5)\n",
    "print(twoD)\n",
    "\n",
    "threeD=np.arange(8).reshape(2,2,2)\n",
    "print(threeD)\n",
    "threeD.ndim"
   ]
  },
  {
   "cell_type": "code",
   "execution_count": 45,
   "id": "9f11c95f-d082-44e1-8f06-5bce0e9ef096",
   "metadata": {},
   "outputs": [
    {
     "name": "stdout",
     "output_type": "stream",
     "text": [
      "[1 2 3]\n"
     ]
    },
    {
     "data": {
      "text/plain": [
       "array([3, 4, 5])"
      ]
     },
     "execution_count": 45,
     "metadata": {},
     "output_type": "execute_result"
    }
   ],
   "source": [
    "arr=np.array([1,2,3])\n",
    "print(arr)\n",
    "\n",
    "#adding array elements with 2\n",
    "arr +2"
   ]
  },
  {
   "cell_type": "code",
   "execution_count": 46,
   "id": "49647ee9-dc8c-40de-81df-cf3987c7eb13",
   "metadata": {},
   "outputs": [
    {
     "name": "stdout",
     "output_type": "stream",
     "text": [
      "[[ 1  2  3  4  5  6  7]\n",
      " [ 8  9 10 11 12 13 14]\n",
      " [15 16 17 18 19 20 21]\n",
      " [22 23 24 25 26 27 28]]\n"
     ]
    }
   ],
   "source": [
    "arr=np.arange(1,29).reshape(4,7)\n",
    "print(arr)"
   ]
  },
  {
   "cell_type": "code",
   "execution_count": 47,
   "id": "04ddb95a-5ea3-4c9d-836f-9068f64d9389",
   "metadata": {},
   "outputs": [
    {
     "ename": "AttributeError",
     "evalue": "'int' object has no attribute 'reshape'",
     "output_type": "error",
     "traceback": [
      "\u001b[1;31m---------------------------------------------------------------------------\u001b[0m",
      "\u001b[1;31mAttributeError\u001b[0m                            Traceback (most recent call last)",
      "Cell \u001b[1;32mIn[47], line 1\u001b[0m\n\u001b[1;32m----> 1\u001b[0m arr\u001b[38;5;241m=\u001b[39mnp\u001b[38;5;241m.\u001b[39mrandom\u001b[38;5;241m.\u001b[39mrandint(\u001b[38;5;241m1\u001b[39m,\u001b[38;5;241m29\u001b[39m)\u001b[38;5;241m.\u001b[39mreshape(\u001b[38;5;241m4\u001b[39m,\u001b[38;5;241m7\u001b[39m)\n\u001b[0;32m      2\u001b[0m \u001b[38;5;28mprint\u001b[39m(arr)\n",
      "\u001b[1;31mAttributeError\u001b[0m: 'int' object has no attribute 'reshape'"
     ]
    }
   ],
   "source": [
    "arr=np.random.randint(1,29).reshape(4,7)\n",
    "print(arr)"
   ]
  },
  {
   "cell_type": "code",
   "execution_count": 52,
   "id": "cb2d6486-1701-41f8-bbfc-8b6670027e9e",
   "metadata": {},
   "outputs": [
    {
     "data": {
      "text/plain": [
       "array([[0.81694649, 0.820451  , 0.97834406, 0.76993151],\n",
       "       [0.27839489, 0.73764957, 0.91560377, 0.49693168]])"
      ]
     },
     "execution_count": 52,
     "metadata": {},
     "output_type": "execute_result"
    }
   ],
   "source": [
    "np.random.random((2,4))"
   ]
  },
  {
   "cell_type": "code",
   "execution_count": 54,
   "id": "2bd4463d-44fa-48a0-828d-36045361ddce",
   "metadata": {},
   "outputs": [
    {
     "data": {
      "text/plain": [
       "array([[0.64944814, 0.25548202, 0.02696073, 0.35257975],\n",
       "       [0.64758061, 0.33736808, 0.28877635, 0.31193412]])"
      ]
     },
     "execution_count": 54,
     "metadata": {},
     "output_type": "execute_result"
    }
   ],
   "source": [
    "np.random.rand(2,4)"
   ]
  },
  {
   "cell_type": "code",
   "execution_count": 56,
   "id": "e63db100-6a48-4328-8ee5-a32f469c9edd",
   "metadata": {},
   "outputs": [
    {
     "data": {
      "text/plain": [
       "array([2, 2, 3, 3, 3, 3, 3, 3, 2, 3])"
      ]
     },
     "execution_count": 56,
     "metadata": {},
     "output_type": "execute_result"
    }
   ],
   "source": [
    "np.random.randint(2,4,10)"
   ]
  },
  {
   "cell_type": "code",
   "execution_count": 78,
   "id": "e5d0d7c4-95c5-497f-a9a6-425e24b63e4d",
   "metadata": {},
   "outputs": [
    {
     "name": "stdout",
     "output_type": "stream",
     "text": [
      "[[ 2 17 16 10 15  6 16 13  2  4]\n",
      " [13 17  8 11  5  6  4 20  6 20]]\n"
     ]
    }
   ],
   "source": [
    "arr=np.random.randint(2,21,(2,10))\n",
    "print(arr)"
   ]
  },
  {
   "cell_type": "code",
   "execution_count": 80,
   "id": "238cad47-ee69-4cbc-b229-9bfab98fd5f0",
   "metadata": {},
   "outputs": [
    {
     "data": {
      "text/plain": [
       "array([[ 2, 17, 16, 10, 15],\n",
       "       [ 6, 16, 13,  2,  4],\n",
       "       [13, 17,  8, 11,  5],\n",
       "       [ 6,  4, 20,  6, 20]])"
      ]
     },
     "execution_count": 80,
     "metadata": {},
     "output_type": "execute_result"
    }
   ],
   "source": [
    "arr.reshape(4,5)"
   ]
  },
  {
   "cell_type": "code",
   "execution_count": 81,
   "id": "98398e82-8bbd-4bd0-99a5-fef936b3d6c6",
   "metadata": {},
   "outputs": [
    {
     "data": {
      "text/plain": [
       "array([[[ 2, 17],\n",
       "        [16, 10]],\n",
       "\n",
       "       [[15,  6],\n",
       "        [16, 13]],\n",
       "\n",
       "       [[ 2,  4],\n",
       "        [13, 17]],\n",
       "\n",
       "       [[ 8, 11],\n",
       "        [ 5,  6]],\n",
       "\n",
       "       [[ 4, 20],\n",
       "        [ 6, 20]]])"
      ]
     },
     "execution_count": 81,
     "metadata": {},
     "output_type": "execute_result"
    }
   ],
   "source": [
    "arr.reshape(5,2,2)"
   ]
  },
  {
   "cell_type": "code",
   "execution_count": 82,
   "id": "e3299879-65c1-46a3-af4a-9f7969ae23a2",
   "metadata": {},
   "outputs": [],
   "source": [
    "p2 = np.arange(12).reshape(3,4)\n",
    "p3 = np.arange(8).reshape(2,2,2)"
   ]
  },
  {
   "cell_type": "code",
   "execution_count": 83,
   "id": "b2ae9ee7-6237-41d0-ba02-adfb009d22b6",
   "metadata": {},
   "outputs": [
    {
     "data": {
      "text/plain": [
       "array([[ 0,  1,  2,  3],\n",
       "       [ 4,  5,  6,  7],\n",
       "       [ 8,  9, 10, 11]])"
      ]
     },
     "execution_count": 83,
     "metadata": {},
     "output_type": "execute_result"
    }
   ],
   "source": [
    "p2"
   ]
  },
  {
   "cell_type": "code",
   "execution_count": 88,
   "id": "79a4df95-cafd-4ad9-8d73-81530aec4c77",
   "metadata": {},
   "outputs": [
    {
     "name": "stdout",
     "output_type": "stream",
     "text": [
      "[[ 0  1  2  3]\n",
      " [ 4  5  6  7]\n",
      " [ 8  9 10 11]]\n",
      "[[[0 1]\n",
      "  [2 3]]\n",
      "\n",
      " [[4 5]\n",
      "  [6 7]]]\n"
     ]
    }
   ],
   "source": [
    "print(p2)\n",
    "print(p3)"
   ]
  },
  {
   "cell_type": "code",
   "execution_count": 93,
   "id": "ea9e74e1-379f-466a-85db-b9e80243888e",
   "metadata": {},
   "outputs": [
    {
     "data": {
      "text/plain": [
       "array([[0., 1.],\n",
       "       [1., 1.]])"
      ]
     },
     "execution_count": 93,
     "metadata": {},
     "output_type": "execute_result"
    }
   ],
   "source": [
    "p1 = np.random.random((2,2))\n",
    "p1=np.round(p1)\n",
    "p1"
   ]
  },
  {
   "cell_type": "code",
   "execution_count": 94,
   "id": "3493132b-3b17-421b-bfe7-c60622dedbbf",
   "metadata": {},
   "outputs": [
    {
     "data": {
      "text/plain": [
       "array([[8, 4, 3, 9],\n",
       "       [6, 9, 8, 5]])"
      ]
     },
     "execution_count": 94,
     "metadata": {},
     "output_type": "execute_result"
    }
   ],
   "source": [
    "p2 = np.random.randint(1,10,(2,4))\n",
    "p2"
   ]
  },
  {
   "cell_type": "code",
   "execution_count": 99,
   "id": "e9d4c1cb-e415-4ad9-a791-13e8764add11",
   "metadata": {},
   "outputs": [
    {
     "data": {
      "text/plain": [
       "array([[15,  9],\n",
       "       [11, 15],\n",
       "       [13, 12],\n",
       "       [17, 13]])"
      ]
     },
     "execution_count": 99,
     "metadata": {},
     "output_type": "execute_result"
    }
   ],
   "source": [
    "p3=np.random.randint(9,20,(4,2))\n",
    "p3"
   ]
  },
  {
   "cell_type": "code",
   "execution_count": 102,
   "id": "439039b9-c91c-4a6a-adc8-2d7e1686ef12",
   "metadata": {},
   "outputs": [
    {
     "data": {
      "text/plain": [
       "array([[356, 285],\n",
       "       [378, 350]])"
      ]
     },
     "execution_count": 102,
     "metadata": {},
     "output_type": "execute_result"
    }
   ],
   "source": [
    "np.dot(p2,p3)"
   ]
  },
  {
   "cell_type": "code",
   "execution_count": 101,
   "id": "184d1607-a8a8-4337-af50-fc039c40fdd8",
   "metadata": {},
   "outputs": [
    {
     "name": "stdout",
     "output_type": "stream",
     "text": [
      "[[8 4 3 9]\n",
      " [6 9 8 5]]\n",
      "[[15  9]\n",
      " [11 15]\n",
      " [13 12]\n",
      " [17 13]]\n"
     ]
    }
   ],
   "source": [
    "print(p2)\n",
    "print(p3)"
   ]
  },
  {
   "cell_type": "code",
   "execution_count": 103,
   "id": "4472ba98-820a-4722-af70-aef106ffaf32",
   "metadata": {},
   "outputs": [],
   "source": [
    "p4 = np.arange(8).reshape(2,2,2)"
   ]
  },
  {
   "cell_type": "code",
   "execution_count": 104,
   "id": "44791a4b-7e7b-4058-89aa-926ff07a2e06",
   "metadata": {},
   "outputs": [
    {
     "data": {
      "text/plain": [
       "array([[[0, 1],\n",
       "        [2, 3]],\n",
       "\n",
       "       [[4, 5],\n",
       "        [6, 7]]])"
      ]
     },
     "execution_count": 104,
     "metadata": {},
     "output_type": "execute_result"
    }
   ],
   "source": [
    "p4"
   ]
  },
  {
   "cell_type": "code",
   "execution_count": 105,
   "id": "f413a25e-07c8-4a30-b628-30e70f9409f8",
   "metadata": {},
   "outputs": [
    {
     "data": {
      "text/plain": [
       "3"
      ]
     },
     "execution_count": 105,
     "metadata": {},
     "output_type": "execute_result"
    }
   ],
   "source": [
    "p4.ndim"
   ]
  },
  {
   "cell_type": "code",
   "execution_count": 109,
   "id": "f8f14b7e-d7bb-4ffc-b4fd-8f331809c3fd",
   "metadata": {},
   "outputs": [
    {
     "name": "stdout",
     "output_type": "stream",
     "text": [
      "[[[1 2 3]\n",
      "  [4 5 6]\n",
      "  [7 8 9]]\n",
      "\n",
      " [[1 2 3]\n",
      "  [4 5 6]\n",
      "  [7 8 9]]]\n"
     ]
    },
    {
     "data": {
      "text/plain": [
       "3"
      ]
     },
     "execution_count": 109,
     "metadata": {},
     "output_type": "execute_result"
    }
   ],
   "source": [
    "p5=np.array([[[1,2,3],[4,5,6],[7,8,9]],\n",
    "             [[1,2,3],[4,5,6],[7,8,9]]])\n",
    "print(p5)\n",
    "p5.ndim"
   ]
  },
  {
   "cell_type": "code",
   "execution_count": 110,
   "id": "0a3a3f19-350f-4694-942b-2fd6f85852c7",
   "metadata": {},
   "outputs": [
    {
     "name": "stdout",
     "output_type": "stream",
     "text": [
      "[[8 4 3 9]\n",
      " [6 9 8 5]]\n",
      "[[15  9]\n",
      " [11 15]\n",
      " [13 12]\n",
      " [17 13]]\n"
     ]
    }
   ],
   "source": [
    "print(p2)\n",
    "print(p3)"
   ]
  },
  {
   "cell_type": "code",
   "execution_count": 114,
   "id": "e2833f7f-376b-4885-b5c6-e0109f369082",
   "metadata": {},
   "outputs": [
    {
     "data": {
      "text/plain": [
       "array([8, 4, 3, 9])"
      ]
     },
     "execution_count": 114,
     "metadata": {},
     "output_type": "execute_result"
    }
   ],
   "source": [
    "#fetching from arrays\n",
    "p2[0,:]  #rows from r0 till all columns\n"
   ]
  },
  {
   "cell_type": "code",
   "execution_count": 113,
   "id": "1c798c2e-4e40-49b1-8290-3aaafbfeab36",
   "metadata": {},
   "outputs": [
    {
     "data": {
      "text/plain": [
       "array([3, 8])"
      ]
     },
     "execution_count": 113,
     "metadata": {},
     "output_type": "execute_result"
    }
   ],
   "source": [
    "p2[:,2]  #From Column2"
   ]
  },
  {
   "cell_type": "code",
   "execution_count": 115,
   "id": "edfe54c6-e930-4bf7-af0d-3dfed8b384b1",
   "metadata": {},
   "outputs": [
    {
     "data": {
      "text/plain": [
       "array([8, 4, 3])"
      ]
     },
     "execution_count": 115,
     "metadata": {},
     "output_type": "execute_result"
    }
   ],
   "source": [
    "p2[0, :3]"
   ]
  },
  {
   "cell_type": "code",
   "execution_count": 118,
   "id": "7c2ecffb-4e35-4447-aae3-fbadc1049ebc",
   "metadata": {},
   "outputs": [
    {
     "data": {
      "text/plain": [
       "array([[4, 3],\n",
       "       [9, 8]])"
      ]
     },
     "execution_count": 118,
     "metadata": {},
     "output_type": "execute_result"
    }
   ],
   "source": [
    "p2[0:,1:3]"
   ]
  },
  {
   "cell_type": "code",
   "execution_count": 123,
   "id": "c8ceee9e-4acc-4b9a-a03a-9074faab55fb",
   "metadata": {},
   "outputs": [
    {
     "name": "stdout",
     "output_type": "stream",
     "text": [
      "[[ 0  1  2  3]\n",
      " [ 4  5  6  7]\n",
      " [ 8  9 10 11]]\n"
     ]
    }
   ],
   "source": [
    "p5=np.arange(0,12).reshape(3,4)\n",
    "print(p5)"
   ]
  },
  {
   "cell_type": "code",
   "execution_count": 125,
   "id": "5dd1c30e-323c-4676-81e0-337f2a627907",
   "metadata": {},
   "outputs": [
    {
     "data": {
      "text/plain": [
       "array([[ 0,  3],\n",
       "       [ 8, 11]])"
      ]
     },
     "execution_count": 125,
     "metadata": {},
     "output_type": "execute_result"
    }
   ],
   "source": [
    "#fetch 0,3 and 8,11 elements from p5 matrix\n",
    "\n",
    "p5[::2,::3]"
   ]
  },
  {
   "cell_type": "code",
   "execution_count": 132,
   "id": "2358c83c-266b-4b99-abc1-35137ca89ff6",
   "metadata": {},
   "outputs": [
    {
     "data": {
      "text/plain": [
       "array([[ 1,  3],\n",
       "       [ 9, 11]])"
      ]
     },
     "execution_count": 132,
     "metadata": {},
     "output_type": "execute_result"
    }
   ],
   "source": [
    "p5[::2,1::2]"
   ]
  },
  {
   "cell_type": "code",
   "execution_count": 135,
   "id": "3442891b-6e74-4cb3-be1f-6adf18682e5c",
   "metadata": {},
   "outputs": [
    {
     "data": {
      "text/plain": [
       "3"
      ]
     },
     "execution_count": 135,
     "metadata": {},
     "output_type": "execute_result"
    }
   ],
   "source": [
    "p5[1::1,]"
   ]
  },
  {
   "cell_type": "code",
   "execution_count": null,
   "id": "d17041e2-c8c7-4c33-9f2b-30c0a35b901c",
   "metadata": {},
   "outputs": [],
   "source": []
  }
 ],
 "metadata": {
  "kernelspec": {
   "display_name": "Python [conda env:base] *",
   "language": "python",
   "name": "conda-base-py"
  },
  "language_info": {
   "codemirror_mode": {
    "name": "ipython",
    "version": 3
   },
   "file_extension": ".py",
   "mimetype": "text/x-python",
   "name": "python",
   "nbconvert_exporter": "python",
   "pygments_lexer": "ipython3",
   "version": "3.12.7"
  }
 },
 "nbformat": 4,
 "nbformat_minor": 5
}
