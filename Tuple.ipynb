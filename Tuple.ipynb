{
 "cells": [
  {
   "cell_type": "code",
   "execution_count": 1,
   "id": "46005690-c103-4355-bec9-f4432b09bcdb",
   "metadata": {},
   "outputs": [],
   "source": [
    "tupl = ()\n"
   ]
  },
  {
   "cell_type": "code",
   "execution_count": 2,
   "id": "c9b5c627-7052-45b5-b33c-9226c64dffda",
   "metadata": {},
   "outputs": [],
   "source": [
    "tup2 = (10,30,60)"
   ]
  },
  {
   "cell_type": "code",
   "execution_count": 4,
   "id": "5d6ef644-4f42-492d-a952-17411ad8626b",
   "metadata": {},
   "outputs": [
    {
     "name": "stdout",
     "output_type": "stream",
     "text": [
      "6\n"
     ]
    }
   ],
   "source": [
    "tup3 = (10.77,30.66,60.89)\n",
    "tup4 = ('one','two','three')\n",
    "tup5 = ('abc', 25, (50,100),(150,90))\n",
    "tup6 = (100, 'abc',17,7765)\n",
    "tup7 = ('abc',25,[50,100],[159,90],{'john','David'},(99,22,33))\n",
    "\n",
    "print(len(tup7))"
   ]
  },
  {
   "cell_type": "code",
   "execution_count": 5,
   "id": "7ec435ee-1e28-4a61-928a-f11ec533d1cd",
   "metadata": {},
   "outputs": [
    {
     "data": {
      "text/plain": [
       "30"
      ]
     },
     "execution_count": 5,
     "metadata": {},
     "output_type": "execute_result"
    }
   ],
   "source": [
    "tup2[1]"
   ]
  },
  {
   "cell_type": "code",
   "execution_count": 6,
   "id": "66f2c2d9-a6eb-4f24-b4f3-852054872869",
   "metadata": {},
   "outputs": [
    {
     "data": {
      "text/plain": [
       "'a'"
      ]
     },
     "execution_count": 6,
     "metadata": {},
     "output_type": "execute_result"
    }
   ],
   "source": [
    "tup7[0][0]"
   ]
  },
  {
   "cell_type": "code",
   "execution_count": 13,
   "id": "bfd3dd67-098c-488a-bea3-919a5c6d6c86",
   "metadata": {},
   "outputs": [
    {
     "data": {
      "text/plain": [
       "('one', 'two', 'three')"
      ]
     },
     "execution_count": 13,
     "metadata": {},
     "output_type": "execute_result"
    }
   ],
   "source": [
    "mytup = ('one','two','three','four','five')\n",
    "mytup[0:3]"
   ]
  },
  {
   "cell_type": "code",
   "execution_count": 15,
   "id": "14dc9db1-c610-4ef1-8f1f-af1e90ab1f74",
   "metadata": {},
   "outputs": [
    {
     "data": {
      "text/plain": [
       "('one', 'two', 'three')"
      ]
     },
     "execution_count": 15,
     "metadata": {},
     "output_type": "execute_result"
    }
   ],
   "source": [
    "mytup[:3]"
   ]
  },
  {
   "cell_type": "code",
   "execution_count": 14,
   "id": "276b0fda-a6d2-4dc9-9249-cfaf9d64c918",
   "metadata": {},
   "outputs": [
    {
     "data": {
      "text/plain": [
       "('four', 'five')"
      ]
     },
     "execution_count": 14,
     "metadata": {},
     "output_type": "execute_result"
    }
   ],
   "source": [
    "mytup[3:]"
   ]
  },
  {
   "cell_type": "code",
   "execution_count": 16,
   "id": "7f5e1362-a032-4bb8-a174-a40ca6b5503d",
   "metadata": {},
   "outputs": [
    {
     "data": {
      "text/plain": [
       "('three', 'four', 'five')"
      ]
     },
     "execution_count": 16,
     "metadata": {},
     "output_type": "execute_result"
    }
   ],
   "source": [
    "mytup[-3:]"
   ]
  },
  {
   "cell_type": "code",
   "execution_count": 17,
   "id": "1a5ebeb4-26ef-40c7-86a5-3171dbc9d737",
   "metadata": {},
   "outputs": [
    {
     "data": {
      "text/plain": [
       "('one', 'two')"
      ]
     },
     "execution_count": 17,
     "metadata": {},
     "output_type": "execute_result"
    }
   ],
   "source": [
    "mytup[:-3]"
   ]
  },
  {
   "cell_type": "code",
   "execution_count": 19,
   "id": "537bbd76-4fdd-472d-b77f-e1d41f77476e",
   "metadata": {},
   "outputs": [
    {
     "data": {
      "text/plain": [
       "('one', 'two', 'three', 'four', 'five')"
      ]
     },
     "execution_count": 19,
     "metadata": {},
     "output_type": "execute_result"
    }
   ],
   "source": [
    "mytup[:]"
   ]
  },
  {
   "cell_type": "code",
   "execution_count": 20,
   "id": "94c1dcad-3e94-453c-aa8d-ba83d7389993",
   "metadata": {},
   "outputs": [
    {
     "ename": "TypeError",
     "evalue": "'tuple' object doesn't support item deletion",
     "output_type": "error",
     "traceback": [
      "\u001b[0;31m---------------------------------------------------------------------------\u001b[0m",
      "\u001b[0;31mTypeError\u001b[0m                                 Traceback (most recent call last)",
      "Cell \u001b[0;32mIn[20], line 1\u001b[0m\n\u001b[0;32m----> 1\u001b[0m \u001b[38;5;28;01mdel\u001b[39;00m mytup[\u001b[38;5;241m0\u001b[39m]\n",
      "\u001b[0;31mTypeError\u001b[0m: 'tuple' object doesn't support item deletion"
     ]
    }
   ],
   "source": [
    "del mytup[0]"
   ]
  },
  {
   "cell_type": "code",
   "execution_count": 21,
   "id": "3710732a-e9d7-4b6d-9941-d226f75c647c",
   "metadata": {},
   "outputs": [],
   "source": [
    "del mytup"
   ]
  },
  {
   "cell_type": "code",
   "execution_count": 22,
   "id": "afa1b7d8-3d44-4fa1-9989-2835676c9fd1",
   "metadata": {},
   "outputs": [
    {
     "ename": "NameError",
     "evalue": "name 'mytup' is not defined",
     "output_type": "error",
     "traceback": [
      "\u001b[0;31m---------------------------------------------------------------------------\u001b[0m",
      "\u001b[0;31mNameError\u001b[0m                                 Traceback (most recent call last)",
      "Cell \u001b[0;32mIn[22], line 1\u001b[0m\n\u001b[0;32m----> 1\u001b[0m mytup\n",
      "\u001b[0;31mNameError\u001b[0m: name 'mytup' is not defined"
     ]
    }
   ],
   "source": [
    "mytup"
   ]
  },
  {
   "cell_type": "code",
   "execution_count": 23,
   "id": "cb524126-2bed-4db1-9a0a-36cff79321aa",
   "metadata": {},
   "outputs": [],
   "source": [
    "mytup = ('one','two','three','four','five')"
   ]
  },
  {
   "cell_type": "code",
   "execution_count": 25,
   "id": "204b25cc-6c20-455e-a57f-1c21fe3fb105",
   "metadata": {},
   "outputs": [
    {
     "name": "stdout",
     "output_type": "stream",
     "text": [
      "one\n",
      "two\n",
      "three\n",
      "four\n",
      "five\n"
     ]
    }
   ],
   "source": [
    "for i in mytup:\n",
    "    print(i)"
   ]
  },
  {
   "cell_type": "code",
   "execution_count": 26,
   "id": "2f0b8095-dccb-483c-95ab-afb1c8498ad0",
   "metadata": {},
   "outputs": [
    {
     "data": {
      "text/plain": [
       "True"
      ]
     },
     "execution_count": 26,
     "metadata": {},
     "output_type": "execute_result"
    }
   ],
   "source": [
    "'one' in mytup"
   ]
  },
  {
   "cell_type": "code",
   "execution_count": 27,
   "id": "1886290c-5548-4f23-9485-a663c3fa3bb2",
   "metadata": {},
   "outputs": [
    {
     "data": {
      "text/plain": [
       "0"
      ]
     },
     "execution_count": 27,
     "metadata": {},
     "output_type": "execute_result"
    }
   ],
   "source": [
    "mytup.index('one')"
   ]
  },
  {
   "cell_type": "code",
   "execution_count": null,
   "id": "d54ede80-0a5e-4801-85b6-4db0927ae016",
   "metadata": {},
   "outputs": [],
   "source": []
  }
 ],
 "metadata": {
  "kernelspec": {
   "display_name": "anaconda-panel-2023.05-py310",
   "language": "python",
   "name": "conda-env-anaconda-panel-2023.05-py310-py"
  },
  "language_info": {
   "codemirror_mode": {
    "name": "ipython",
    "version": 3
   },
   "file_extension": ".py",
   "mimetype": "text/x-python",
   "name": "python",
   "nbconvert_exporter": "python",
   "pygments_lexer": "ipython3",
   "version": "3.11.5"
  }
 },
 "nbformat": 4,
 "nbformat_minor": 5
}
