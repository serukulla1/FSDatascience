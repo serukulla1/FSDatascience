{
 "cells": [
  {
   "cell_type": "code",
   "execution_count": 1,
   "id": "739d7b66-9541-4c16-915a-8a6a6aae43ef",
   "metadata": {},
   "outputs": [
    {
     "data": {
      "text/plain": [
       "'abc '"
      ]
     },
     "execution_count": 1,
     "metadata": {},
     "output_type": "execute_result"
    }
   ],
   "source": [
    "txt=\" abc \"\n",
    "txt.lstrip()"
   ]
  },
  {
   "cell_type": "code",
   "execution_count": 2,
   "id": "448ac308-5fcc-458d-911c-836e68929804",
   "metadata": {},
   "outputs": [
    {
     "data": {
      "text/plain": [
       "' abc'"
      ]
     },
     "execution_count": 2,
     "metadata": {},
     "output_type": "execute_result"
    }
   ],
   "source": [
    "txt.rstrip()"
   ]
  },
  {
   "cell_type": "code",
   "execution_count": 5,
   "id": "20f3d121-90d6-4f0e-9a4a-e744bbf20be2",
   "metadata": {},
   "outputs": [
    {
     "data": {
      "text/plain": [
       "3"
      ]
     },
     "execution_count": 5,
     "metadata": {},
     "output_type": "execute_result"
    }
   ],
   "source": [
    "list = [\"a\", \"b\" , [\"c\",\"d\"]]\n",
    "len(list)"
   ]
  },
  {
   "cell_type": "code",
   "execution_count": 6,
   "id": "1b71f574-ad78-48c9-884e-4f01a3bf5d4f",
   "metadata": {},
   "outputs": [
    {
     "data": {
      "text/plain": [
       "['c', 'd']"
      ]
     },
     "execution_count": 6,
     "metadata": {},
     "output_type": "execute_result"
    }
   ],
   "source": [
    "list[-1]"
   ]
  },
  {
   "cell_type": "code",
   "execution_count": 7,
   "id": "a81cb6cb-2eaa-4725-9a50-8614afd600b4",
   "metadata": {},
   "outputs": [
    {
     "data": {
      "text/plain": [
       "'c'"
      ]
     },
     "execution_count": 7,
     "metadata": {},
     "output_type": "execute_result"
    }
   ],
   "source": [
    "list[2][0]"
   ]
  },
  {
   "cell_type": "code",
   "execution_count": 8,
   "id": "e497367d-ea39-4d72-9014-9132c4d84c3e",
   "metadata": {},
   "outputs": [
    {
     "data": {
      "text/plain": [
       "['a']"
      ]
     },
     "execution_count": 8,
     "metadata": {},
     "output_type": "execute_result"
    }
   ],
   "source": [
    "list[0:1]"
   ]
  },
  {
   "cell_type": "code",
   "execution_count": 9,
   "id": "2f8531d0-2e34-4e4e-af04-43e32b0d104f",
   "metadata": {},
   "outputs": [
    {
     "data": {
      "text/plain": [
       "['a']"
      ]
     },
     "execution_count": 9,
     "metadata": {},
     "output_type": "execute_result"
    }
   ],
   "source": [
    "list[:1]"
   ]
  },
  {
   "cell_type": "code",
   "execution_count": 18,
   "id": "ca8b91b4-b59b-4e19-a9b9-2ff5cf75f39a",
   "metadata": {},
   "outputs": [
    {
     "data": {
      "text/plain": [
       "['a', 'b', ['c', 'd'], '5', '5', '6', '5']"
      ]
     },
     "execution_count": 18,
     "metadata": {},
     "output_type": "execute_result"
    }
   ],
   "source": [
    "list.insert(4,\"5\")\n",
    "list"
   ]
  },
  {
   "cell_type": "code",
   "execution_count": 11,
   "id": "49de5fef-d15b-49ad-994a-210f96fcff57",
   "metadata": {},
   "outputs": [
    {
     "data": {
      "text/plain": [
       "'5'"
      ]
     },
     "execution_count": 11,
     "metadata": {},
     "output_type": "execute_result"
    }
   ],
   "source": [
    "list[3]"
   ]
  },
  {
   "cell_type": "code",
   "execution_count": 12,
   "id": "e67c9c3e-c545-4faa-87cd-0159e81f6eed",
   "metadata": {},
   "outputs": [
    {
     "ename": "IndexError",
     "evalue": "list index out of range",
     "output_type": "error",
     "traceback": [
      "\u001b[1;31m---------------------------------------------------------------------------\u001b[0m",
      "\u001b[1;31mIndexError\u001b[0m                                Traceback (most recent call last)",
      "Cell \u001b[1;32mIn[12], line 1\u001b[0m\n\u001b[1;32m----> 1\u001b[0m \u001b[38;5;28mlist\u001b[39m[\u001b[38;5;241m4\u001b[39m]\n",
      "\u001b[1;31mIndexError\u001b[0m: list index out of range"
     ]
    }
   ],
   "source": [
    "list[4]"
   ]
  },
  {
   "cell_type": "code",
   "execution_count": 20,
   "id": "d0604ecb-61f5-4d85-bee7-5421d0b50a03",
   "metadata": {},
   "outputs": [],
   "source": [
    "list.insert(4,\"6\")"
   ]
  },
  {
   "cell_type": "code",
   "execution_count": 14,
   "id": "0e383d4e-37b1-4c7c-8cb9-0aff97e5c688",
   "metadata": {},
   "outputs": [
    {
     "data": {
      "text/plain": [
       "'5'"
      ]
     },
     "execution_count": 14,
     "metadata": {},
     "output_type": "execute_result"
    }
   ],
   "source": [
    "list[3]"
   ]
  },
  {
   "cell_type": "code",
   "execution_count": 21,
   "id": "c855a668-d70f-4a3a-babd-72764f777cf1",
   "metadata": {},
   "outputs": [
    {
     "data": {
      "text/plain": [
       "'6'"
      ]
     },
     "execution_count": 21,
     "metadata": {},
     "output_type": "execute_result"
    }
   ],
   "source": [
    "list[4]"
   ]
  },
  {
   "cell_type": "code",
   "execution_count": 27,
   "id": "672be116-dc4c-4958-81ba-aa0f51d2378e",
   "metadata": {},
   "outputs": [
    {
     "data": {
      "text/plain": [
       "['a', 'b', ['c', 'd'], '5', '6', '5']"
      ]
     },
     "execution_count": 27,
     "metadata": {},
     "output_type": "execute_result"
    }
   ],
   "source": [
    "list1 = list\n",
    "list1\n",
    "list.pop()\n",
    "list\n"
   ]
  },
  {
   "cell_type": "code",
   "execution_count": 28,
   "id": "3ca115f9-b3e3-46a1-a2fe-58c789e02a53",
   "metadata": {},
   "outputs": [
    {
     "data": {
      "text/plain": [
       "['a', 'b', ['c', 'd'], '5', '6', '5']"
      ]
     },
     "execution_count": 28,
     "metadata": {},
     "output_type": "execute_result"
    }
   ],
   "source": [
    "list1"
   ]
  },
  {
   "cell_type": "code",
   "execution_count": 30,
   "id": "58c8e6fe-79b2-4b2a-bfe5-9259b4bd9414",
   "metadata": {},
   "outputs": [
    {
     "ename": "NameError",
     "evalue": "name 'copy' is not defined",
     "output_type": "error",
     "traceback": [
      "\u001b[1;31m---------------------------------------------------------------------------\u001b[0m",
      "\u001b[1;31mNameError\u001b[0m                                 Traceback (most recent call last)",
      "Cell \u001b[1;32mIn[30], line 1\u001b[0m\n\u001b[1;32m----> 1\u001b[0m list3 \u001b[38;5;241m=\u001b[39m copy(list1)\n\u001b[0;32m      2\u001b[0m list3\n",
      "\u001b[1;31mNameError\u001b[0m: name 'copy' is not defined"
     ]
    }
   ],
   "source": [
    "list3 = copy(list1)\n",
    "list3"
   ]
  },
  {
   "cell_type": "code",
   "execution_count": 34,
   "id": "771cf656-4e82-4461-baf1-dc36c640e03b",
   "metadata": {},
   "outputs": [
    {
     "data": {
      "text/plain": [
       "[1, 3, 4]"
      ]
     },
     "execution_count": 34,
     "metadata": {},
     "output_type": "execute_result"
    }
   ],
   "source": [
    "l = [3, 4, 1]\n",
    "l.sort()\n",
    "l"
   ]
  },
  {
   "cell_type": "code",
   "execution_count": 35,
   "id": "57832ccd-0e71-4dc5-935c-86a1d36411fd",
   "metadata": {},
   "outputs": [],
   "source": [
    "l.reverse()"
   ]
  },
  {
   "cell_type": "code",
   "execution_count": 36,
   "id": "b3776e65-4a92-4e8e-ab4c-a664a037159b",
   "metadata": {},
   "outputs": [
    {
     "data": {
      "text/plain": [
       "[4, 3, 1]"
      ]
     },
     "execution_count": 36,
     "metadata": {},
     "output_type": "execute_result"
    }
   ],
   "source": [
    "l\n"
   ]
  },
  {
   "cell_type": "code",
   "execution_count": 37,
   "id": "cf3fc6b7-06d4-450e-a503-b877b56a1aff",
   "metadata": {},
   "outputs": [
    {
     "data": {
      "text/plain": [
       "[4, 3, 1, 5]"
      ]
     },
     "execution_count": 37,
     "metadata": {},
     "output_type": "execute_result"
    }
   ],
   "source": [
    "l.append(5)\n",
    "l"
   ]
  },
  {
   "cell_type": "code",
   "execution_count": 38,
   "id": "684efebe-3c44-4cef-839e-7f7bfec351b6",
   "metadata": {},
   "outputs": [
    {
     "data": {
      "text/plain": [
       "[1, 3, 4, 5]"
      ]
     },
     "execution_count": 38,
     "metadata": {},
     "output_type": "execute_result"
    }
   ],
   "source": [
    "l.sort()\n",
    "l"
   ]
  },
  {
   "cell_type": "code",
   "execution_count": 39,
   "id": "274f55e4-25f9-4515-938c-aa2b27dd84d6",
   "metadata": {},
   "outputs": [
    {
     "data": {
      "text/plain": [
       "[8, 9, 10]"
      ]
     },
     "execution_count": 39,
     "metadata": {},
     "output_type": "execute_result"
    }
   ],
   "source": [
    "l1=[8,9,10]\n",
    "l1"
   ]
  },
  {
   "cell_type": "code",
   "execution_count": 41,
   "id": "e44e929e-ed98-4473-b07e-f8f320394fb0",
   "metadata": {},
   "outputs": [
    {
     "data": {
      "text/plain": [
       "[1, 3, 4, 5, 8, 9, 10]"
      ]
     },
     "execution_count": 41,
     "metadata": {},
     "output_type": "execute_result"
    }
   ],
   "source": [
    "l.extend(l1)\n",
    "l"
   ]
  },
  {
   "cell_type": "code",
   "execution_count": 42,
   "id": "99bb4999-9652-471b-8318-e40bc2c76979",
   "metadata": {},
   "outputs": [
    {
     "data": {
      "text/plain": [
       "[1, 3, 4, 5, 8, 9, 10, 8, 9, 10]"
      ]
     },
     "execution_count": 42,
     "metadata": {},
     "output_type": "execute_result"
    }
   ],
   "source": [
    "l2=l+l1\n",
    "l2"
   ]
  },
  {
   "cell_type": "code",
   "execution_count": 43,
   "id": "8ccc9f73-c7af-4f33-876a-501172c08cba",
   "metadata": {},
   "outputs": [
    {
     "data": {
      "text/plain": [
       "[1, 3, 4, 5, 8, 9, 10, 8, 9, 10, 7]"
      ]
     },
     "execution_count": 43,
     "metadata": {},
     "output_type": "execute_result"
    }
   ],
   "source": [
    "l2.append(7)\n",
    "l2"
   ]
  },
  {
   "cell_type": "code",
   "execution_count": 44,
   "id": "abe671ce-ad9a-4b6b-8e1a-52c80ba0cfa1",
   "metadata": {},
   "outputs": [
    {
     "data": {
      "text/plain": [
       "[1, 3, 4, 5, 7, 8, 8, 9, 9, 10, 10]"
      ]
     },
     "execution_count": 44,
     "metadata": {},
     "output_type": "execute_result"
    }
   ],
   "source": [
    "sorted(l2)"
   ]
  },
  {
   "cell_type": "code",
   "execution_count": 45,
   "id": "81773464-4a7e-49ae-a573-c6a73decc007",
   "metadata": {},
   "outputs": [
    {
     "data": {
      "text/plain": [
       "[1, 3, 4, 5, 8, 9, 10, 8, 9, 10, 7]"
      ]
     },
     "execution_count": 45,
     "metadata": {},
     "output_type": "execute_result"
    }
   ],
   "source": [
    "l2\n"
   ]
  },
  {
   "cell_type": "code",
   "execution_count": 66,
   "id": "6d53c562-8ef9-4569-a23c-1915c96edf00",
   "metadata": {},
   "outputs": [
    {
     "name": "stdout",
     "output_type": "stream",
     "text": [
      "(0, '1a')\n",
      "2a\n",
      "(0, '1a')\n",
      "2b\n",
      "(0, '1a')\n",
      "2c\n",
      "(1, '1b')\n",
      "2a\n",
      "(1, '1b')\n",
      "2b\n",
      "(1, '1b')\n",
      "2c\n",
      "(2, '1c')\n",
      "2a\n",
      "(2, '1c')\n",
      "2b\n",
      "(2, '1c')\n",
      "2c\n"
     ]
    }
   ],
   "source": [
    "l1=[\"1a\",\"1b\",\"1c\"]\n",
    "l1\n",
    "l2=[\"2a\",\"2b\",\"2c\"]\n",
    "\n",
    "for i in enumerate(l1):\n",
    "    for j in l2:\n",
    "        print(i)\n",
    "        print(j)\n",
    "                                                                                                                                "
   ]
  },
  {
   "cell_type": "code",
   "execution_count": 67,
   "id": "a0eacef8-79cc-4780-9205-5c964c40e995",
   "metadata": {},
   "outputs": [
    {
     "data": {
      "text/plain": [
       "[1, 3, 4, 5, 8, 9, 10]"
      ]
     },
     "execution_count": 67,
     "metadata": {},
     "output_type": "execute_result"
    }
   ],
   "source": [
    "l"
   ]
  },
  {
   "cell_type": "code",
   "execution_count": 68,
   "id": "dd106464-b5bd-4331-b115-5a50dff2c2fa",
   "metadata": {},
   "outputs": [
    {
     "data": {
      "text/plain": [
       "True"
      ]
     },
     "execution_count": 68,
     "metadata": {},
     "output_type": "execute_result"
    }
   ],
   "source": [
    "all(l)"
   ]
  },
  {
   "cell_type": "code",
   "execution_count": 69,
   "id": "1d287a7b-199a-49cb-8407-b8a06d4d603b",
   "metadata": {},
   "outputs": [
    {
     "data": {
      "text/plain": [
       "True"
      ]
     },
     "execution_count": 69,
     "metadata": {},
     "output_type": "execute_result"
    }
   ],
   "source": [
    "any(l)"
   ]
  },
  {
   "cell_type": "code",
   "execution_count": 70,
   "id": "8c2f249a-ce54-4359-8680-77236dcece85",
   "metadata": {},
   "outputs": [
    {
     "data": {
      "text/plain": [
       "False"
      ]
     },
     "execution_count": 70,
     "metadata": {},
     "output_type": "execute_result"
    }
   ],
   "source": [
    "l.append(0)\n",
    "all(l)"
   ]
  },
  {
   "cell_type": "code",
   "execution_count": 71,
   "id": "fe997371-cc0c-4405-8569-33aef14bece8",
   "metadata": {},
   "outputs": [
    {
     "data": {
      "text/plain": [
       "(10, 10, 10)"
      ]
     },
     "execution_count": 71,
     "metadata": {},
     "output_type": "execute_result"
    }
   ],
   "source": [
    "t1=(10,10,10)\n",
    "t1"
   ]
  },
  {
   "cell_type": "code",
   "execution_count": 73,
   "id": "fe9543c6-56bf-46e2-a7ed-32a467f82a3a",
   "metadata": {},
   "outputs": [
    {
     "data": {
      "text/plain": [
       "(10, 10, 10, 10, 10, 10)"
      ]
     },
     "execution_count": 73,
     "metadata": {},
     "output_type": "execute_result"
    }
   ],
   "source": [
    "t2=t1*2\n",
    "t2"
   ]
  },
  {
   "cell_type": "code",
   "execution_count": 75,
   "id": "9daa07fa-22ac-47c8-a405-07d3622ae537",
   "metadata": {},
   "outputs": [
    {
     "data": {
      "text/plain": [
       "(10, 10, 10, 10, 10, 10)"
      ]
     },
     "execution_count": 75,
     "metadata": {},
     "output_type": "execute_result"
    }
   ],
   "source": [
    "t3=([1,2,3],[4,5,6])\n",
    "t3\n",
    "t2"
   ]
  },
  {
   "cell_type": "code",
   "execution_count": 77,
   "id": "ab205e9c-5a73-4d68-8548-c051036c4830",
   "metadata": {},
   "outputs": [
    {
     "data": {
      "text/plain": [
       "((1, 3), (2, 4))"
      ]
     },
     "execution_count": 77,
     "metadata": {},
     "output_type": "execute_result"
    }
   ],
   "source": [
    "t4=((1,3),(2,4))\n",
    "t4"
   ]
  },
  {
   "cell_type": "code",
   "execution_count": 78,
   "id": "eabd845b-8929-4025-979c-c2e9db40e5ce",
   "metadata": {},
   "outputs": [
    {
     "data": {
      "text/plain": [
       "2"
      ]
     },
     "execution_count": 78,
     "metadata": {},
     "output_type": "execute_result"
    }
   ],
   "source": [
    "len(t4)"
   ]
  },
  {
   "cell_type": "code",
   "execution_count": 89,
   "id": "23fb0dee-8753-494c-ba9e-651f330596c9",
   "metadata": {},
   "outputs": [
    {
     "name": "stdout",
     "output_type": "stream",
     "text": [
      "Hi, this\n"
     ]
    }
   ],
   "source": [
    "string_t = \"\"\"Hi, this\"\"\"\n",
    "print(string_t)"
   ]
  },
  {
   "cell_type": "code",
   "execution_count": 90,
   "id": "5dbf3381-dd48-472c-8a53-a82abef6e80d",
   "metadata": {},
   "outputs": [
    {
     "name": "stdout",
     "output_type": "stream",
     "text": [
      "8\n"
     ]
    }
   ],
   "source": [
    "print (len(string_t))"
   ]
  },
  {
   "cell_type": "code",
   "execution_count": 103,
   "id": "aae863e0-27d3-48a8-90d4-09c30b844987",
   "metadata": {},
   "outputs": [
    {
     "name": "stdout",
     "output_type": "stream",
     "text": [
      "weekday monday\n",
      "4\n"
     ]
    }
   ],
   "source": [
    "weekday = \"sundayddd\"\n",
    "a,b = \"weekday\",\"monday\"\n",
    "print(a,b)\n",
    "print(weekday.count(d))\n"
   ]
  },
  {
   "cell_type": "code",
   "execution_count": 110,
   "id": "78df8f0f-9988-49ff-a7a1-915e03045b90",
   "metadata": {},
   "outputs": [
    {
     "name": "stdout",
     "output_type": "stream",
     "text": [
      " thirty days of python !\n"
     ]
    }
   ],
   "source": [
    "challenge = ' thirty days of python !'\n",
    "print(challenge.strip('y'))"
   ]
  },
  {
   "cell_type": "code",
   "execution_count": null,
   "id": "de66a039-6f0d-4e45-8859-e4435c1ecd75",
   "metadata": {},
   "outputs": [],
   "source": []
  }
 ],
 "metadata": {
  "kernelspec": {
   "display_name": "Python [conda env:base] *",
   "language": "python",
   "name": "conda-base-py"
  },
  "language_info": {
   "codemirror_mode": {
    "name": "ipython",
    "version": 3
   },
   "file_extension": ".py",
   "mimetype": "text/x-python",
   "name": "python",
   "nbconvert_exporter": "python",
   "pygments_lexer": "ipython3",
   "version": "3.12.7"
  }
 },
 "nbformat": 4,
 "nbformat_minor": 5
}
