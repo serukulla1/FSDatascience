{
 "cells": [
  {
   "cell_type": "markdown",
   "id": "6df9fcee-9c11-4375-b28b-408acc97dcb7",
   "metadata": {},
   "source": [
    "Reverse entered string "
   ]
  },
  {
   "cell_type": "code",
   "execution_count": 10,
   "id": "009813ab-24a4-4edc-8321-d821d85746fa",
   "metadata": {},
   "outputs": [
    {
     "name": "stdout",
     "output_type": "stream",
     "text": [
      "asseJ si emaN yM\n"
     ]
    }
   ],
   "source": [
    "str = 'My Name is Jessa'\n",
    "print(str[::-1])  "
   ]
  },
  {
   "cell_type": "code",
   "execution_count": 2,
   "id": "5c5d8af9-1f63-4df5-a0a9-ac59ca3b4b58",
   "metadata": {},
   "outputs": [
    {
     "name": "stdout",
     "output_type": "stream",
     "text": [
      "10\n",
      "[10, 20, 30, 40]\n"
     ]
    }
   ],
   "source": [
    "#Remove numbers greater than 50, withut creating a seperate list\n",
    "number_list = [10, 20, 30, 40, 50, 60, 70, 80, 90, 100]\n",
    "\n",
    "l1 = len(number_list)\n",
    "print(l1)\n",
    "num=0\n",
    "while num < l1:\n",
    "    for i in number_list:\n",
    "        if ( i >= 50):\n",
    "            number_list.remove(i)\n",
    "    num=num+1\n",
    "\n",
    "print(number_list)"
   ]
  },
  {
   "cell_type": "code",
   "execution_count": 17,
   "id": "278a7ced-0e0d-4ae8-ad44-cf4625ad2f07",
   "metadata": {},
   "outputs": [
    {
     "name": "stdout",
     "output_type": "stream",
     "text": [
      "{65: 'A', 66: 'B', 67: 'C', 68: 'D'}\n"
     ]
    }
   ],
   "source": [
    "#Reverse dictionary mapping \n",
    "ascii_dict = {'A': 65, 'B': 66, 'C': 67, 'D': 68}\n",
    "len(ascii_dict)\n",
    "new_dict={}\n",
    "for i in ascii_dict:\n",
    "    new_dict.update({ascii_dict[i]:i})\n",
    "\n",
    "ascii_dict=new_dict\n",
    "print(ascii_dict)"
   ]
  },
  {
   "cell_type": "code",
   "execution_count": 19,
   "id": "808846a4-39e9-4da8-b589-bb67ecd8514b",
   "metadata": {},
   "outputs": [
    {
     "data": {
      "text/plain": [
       "[10, 20, 30, 40, 60, 70, 80]"
      ]
     },
     "execution_count": 19,
     "metadata": {},
     "output_type": "execute_result"
    }
   ],
   "source": [
    "#Display duplicate items from list\n",
    "sample_list = [10, 20, 60, 30, 20, 40, 30, 60, 70, 80]\n",
    "\n",
    "myset=set(sample_list)\n",
    "sample_list=list(myset)\n",
    "\n",
    "sorted(sample_list)"
   ]
  },
  {
   "cell_type": "raw",
   "id": "cd568506-8da4-40a6-89b7-c89d56b0c164",
   "metadata": {},
   "source": [
    "#create dict from dict with the keys in list\n",
    "# Dictionary\n",
    "d1 = {'A': 65, 'B': 66, 'C': 67, 'D': 68, 'E': 69, 'F': 70}\n",
    "\n",
    "# Filter dict using following keys\n",
    "l1 = ['A', 'C', 'F']\n",
    "\n",
    "\n",
    "for k in d1:\n",
    "    print(k)\n"
   ]
  },
  {
   "cell_type": "code",
   "execution_count": 2,
   "id": "1d50c3cd-6277-4c84-a629-15bd8e72d162",
   "metadata": {},
   "outputs": [
    {
     "data": {
      "text/plain": [
       "{'A': 65, 'C': 67, 'F': 70}"
      ]
     },
     "execution_count": 2,
     "metadata": {},
     "output_type": "execute_result"
    }
   ],
   "source": [
    "#create dict from dict with the keys in list\n",
    "# Dictionary\n",
    "d1 = {'A': 65, 'B': 66, 'C': 67, 'D': 68, 'E': 69, 'F': 70}\n",
    "\n",
    "# Filter dict using following keys\n",
    "l1 = ['A', 'C', 'F']\n",
    "new_dict={}\n",
    "\n",
    "for i in l1:\n",
    "    for k in d1:\n",
    "        if ( i == k):\n",
    "            new_dict.update({i : d1[i]})\n",
    "new_dict"
   ]
  },
  {
   "cell_type": "code",
   "execution_count": 8,
   "id": "1c398913-a5ba-4387-83a8-828d2cb3fed0",
   "metadata": {},
   "outputs": [
    {
     "name": "stdout",
     "output_type": "stream",
     "text": [
      "jjjjj\n",
      "jjjj\n",
      "jjj\n",
      "jj\n",
      "j\n"
     ]
    }
   ],
   "source": [
    "#\n",
    "#1 1 1 1 1 \n",
    "#2 2 2 2 \n",
    "#3 3 3 \n",
    "#4 4 \n",
    "#5\n",
    "\n",
    "\n",
    "i=5\n",
    "j=1\n",
    "while i > 0:\n",
    "    print(i * 'j')\n",
    "    j=j+1\n",
    "    i=i-1\n"
   ]
  },
  {
   "cell_type": "code",
   "execution_count": null,
   "id": "74520d32-5b3b-4e46-b665-10b1c3bfccf7",
   "metadata": {},
   "outputs": [],
   "source": []
  }
 ],
 "metadata": {
  "kernelspec": {
   "display_name": "Python [conda env:base] *",
   "language": "python",
   "name": "conda-base-py"
  },
  "language_info": {
   "codemirror_mode": {
    "name": "ipython",
    "version": 3
   },
   "file_extension": ".py",
   "mimetype": "text/x-python",
   "name": "python",
   "nbconvert_exporter": "python",
   "pygments_lexer": "ipython3",
   "version": "3.12.7"
  }
 },
 "nbformat": 4,
 "nbformat_minor": 5
}
