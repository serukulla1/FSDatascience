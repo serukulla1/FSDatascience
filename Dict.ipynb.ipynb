{
 "cells": [
  {
   "cell_type": "markdown",
   "id": "d9909627-959d-4860-9496-46b4fb7df457",
   "metadata": {},
   "source": [
    "Dict"
   ]
  },
  {
   "cell_type": "code",
   "execution_count": 3,
   "id": "b799a3cd-48fd-471a-9fb2-2096f49d8548",
   "metadata": {},
   "outputs": [
    {
     "data": {
      "text/plain": [
       "{1: 'one', 2: 'two', 3: 'three'}"
      ]
     },
     "execution_count": 3,
     "metadata": {},
     "output_type": "execute_result"
    }
   ],
   "source": [
    "dict1 = { 1: 'one', 2:'two', 3:'three' }\n",
    "dict1"
   ]
  },
  {
   "cell_type": "code",
   "execution_count": 4,
   "id": "cd89e5dc-27b9-41dd-83c4-f8a638899cbb",
   "metadata": {},
   "outputs": [
    {
     "data": {
      "text/plain": [
       "'one'"
      ]
     },
     "execution_count": 4,
     "metadata": {},
     "output_type": "execute_result"
    }
   ],
   "source": [
    "dict1[1]"
   ]
  },
  {
   "cell_type": "code",
   "execution_count": 9,
   "id": "37e62431-f196-4951-9a71-c4ea3b0d7b30",
   "metadata": {},
   "outputs": [
    {
     "name": "stdout",
     "output_type": "stream",
     "text": [
      "1 : one\n",
      "2 : two\n",
      "3 : three\n"
     ]
    }
   ],
   "source": [
    "for i in dict1:\n",
    "    print(i, ':', dict1[i])"
   ]
  },
  {
   "cell_type": "code",
   "execution_count": 19,
   "id": "467edc50-b18d-4ce0-b4e6-08687440387d",
   "metadata": {},
   "outputs": [
    {
     "name": "stdout",
     "output_type": "stream",
     "text": [
      "{1: 'one', 2: 'two', 3: 'three'}\n"
     ]
    }
   ],
   "source": [
    "dict2 = {1:'four',2:'two',3:'three'}\n",
    "dict2\n",
    "dict2 = {1:'one',2:'two',3:'three'}\n",
    "print(dict2)"
   ]
  },
  {
   "cell_type": "code",
   "execution_count": 14,
   "id": "271f66ae-116f-45f0-83e3-e98a1289e90d",
   "metadata": {},
   "outputs": [
    {
     "data": {
      "text/plain": [
       "3"
      ]
     },
     "execution_count": 14,
     "metadata": {},
     "output_type": "execute_result"
    }
   ],
   "source": [
    "len(dict2)"
   ]
  },
  {
   "cell_type": "code",
   "execution_count": 16,
   "id": "6a7760fc-1eb5-4e98-92b6-411aaf455f43",
   "metadata": {},
   "outputs": [
    {
     "data": {
      "text/plain": [
       "dict"
      ]
     },
     "execution_count": 16,
     "metadata": {},
     "output_type": "execute_result"
    }
   ],
   "source": [
    "type(dict2)"
   ]
  },
  {
   "cell_type": "code",
   "execution_count": 20,
   "id": "6a072bcb-8f4d-4a11-b4fc-6fb0edb6f7fb",
   "metadata": {},
   "outputs": [
    {
     "data": {
      "text/plain": [
       "'one'"
      ]
     },
     "execution_count": 20,
     "metadata": {},
     "output_type": "execute_result"
    }
   ],
   "source": [
    "dict2.get(1)"
   ]
  },
  {
   "cell_type": "code",
   "execution_count": 25,
   "id": "bbfc30b2-f70d-41db-9e29-ee41f83cfc42",
   "metadata": {},
   "outputs": [],
   "source": [
    "dict2[4]='four'"
   ]
  },
  {
   "cell_type": "code",
   "execution_count": 22,
   "id": "eb5f5dfa-7d31-4d56-a00d-1feaab980b12",
   "metadata": {},
   "outputs": [
    {
     "data": {
      "text/plain": [
       "{1: 'one', 2: 'two', 3: 'three', 4: 'four'}"
      ]
     },
     "execution_count": 22,
     "metadata": {},
     "output_type": "execute_result"
    }
   ],
   "source": [
    "dict2"
   ]
  },
  {
   "cell_type": "code",
   "execution_count": 23,
   "id": "dce84e5e-ffe6-4ebe-ae55-30ce03cc4e0b",
   "metadata": {},
   "outputs": [],
   "source": [
    "dict2[4]='four1'"
   ]
  },
  {
   "cell_type": "code",
   "execution_count": 24,
   "id": "df1b77ff-81cb-4674-b7cc-93dcd4a00eab",
   "metadata": {},
   "outputs": [
    {
     "data": {
      "text/plain": [
       "{1: 'one', 2: 'two', 3: 'three', 4: 'four1'}"
      ]
     },
     "execution_count": 24,
     "metadata": {},
     "output_type": "execute_result"
    }
   ],
   "source": [
    "dict2"
   ]
  },
  {
   "cell_type": "code",
   "execution_count": 27,
   "id": "91abdeb8-00fb-4d71-a50e-4da006c7a3c8",
   "metadata": {},
   "outputs": [
    {
     "data": {
      "text/plain": [
       "dict_items([(1, 'one'), (2, 'two'), (3, 'three'), (4, 'four')])"
      ]
     },
     "execution_count": 27,
     "metadata": {},
     "output_type": "execute_result"
    }
   ],
   "source": [
    "dict2.items()"
   ]
  },
  {
   "cell_type": "markdown",
   "id": "91bc0567-e4ea-440c-8633-723a2aef8798",
   "metadata": {},
   "source": [
    "Add items"
   ]
  },
  {
   "cell_type": "code",
   "execution_count": 32,
   "id": "78334493-3b4e-4c5f-b839-348d793c4ed1",
   "metadata": {},
   "outputs": [
    {
     "name": "stdout",
     "output_type": "stream",
     "text": [
      "{1: 'one', 2: 'two', 3: 'three', 4: 'four', 5: 'five', 6: 'six'}\n"
     ]
    }
   ],
   "source": [
    "dict2.update({5 : \"five\"})\n",
    "dict2\n",
    "dict2.update({6 : \"six\"})\n",
    "print(dict2)"
   ]
  },
  {
   "cell_type": "markdown",
   "id": "d2eb03b8-2b44-4d20-8acb-f461c6cafea9",
   "metadata": {},
   "source": [
    "Remove items"
   ]
  },
  {
   "cell_type": "code",
   "execution_count": 34,
   "id": "dee444f4-5ba3-4fcc-9e20-111236610a3e",
   "metadata": {},
   "outputs": [
    {
     "data": {
      "text/plain": [
       "{1: 'one', 2: 'two', 3: 'three', 4: 'four', 5: 'five'}"
      ]
     },
     "execution_count": 34,
     "metadata": {},
     "output_type": "execute_result"
    }
   ],
   "source": [
    "dict2.pop(6)\n",
    "dict2"
   ]
  },
  {
   "cell_type": "code",
   "execution_count": 35,
   "id": "f7a456d3-906a-4aca-966a-60b155f7670d",
   "metadata": {},
   "outputs": [
    {
     "data": {
      "text/plain": [
       "{1: 'one', 2: 'two', 3: 'three', 4: 'four'}"
      ]
     },
     "execution_count": 35,
     "metadata": {},
     "output_type": "execute_result"
    }
   ],
   "source": [
    "dict2.popitem()\n",
    "dict2"
   ]
  },
  {
   "cell_type": "code",
   "execution_count": 43,
   "id": "bb52a5bf-74f5-4a45-9402-7a228c5e25b6",
   "metadata": {},
   "outputs": [
    {
     "data": {
      "text/plain": [
       "{'1': None, '2': None, '3': None}"
      ]
     },
     "execution_count": 43,
     "metadata": {},
     "output_type": "execute_result"
    }
   ],
   "source": [
    "x = ('1','2','3')\n",
    "y = \"\";\n",
    "dict3 = dict2.fromkeys(x)\n",
    "dict3"
   ]
  },
  {
   "cell_type": "code",
   "execution_count": 49,
   "id": "e03dd9d9-cda0-4537-a5eb-2e3fc3c9c85d",
   "metadata": {},
   "outputs": [
    {
     "name": "stdout",
     "output_type": "stream",
     "text": [
      "1 one\n",
      "2 two\n",
      "3 three\n",
      "4 four\n"
     ]
    }
   ],
   "source": [
    "for x, y in dict2.items():\n",
    "    print(x, y)"
   ]
  },
  {
   "cell_type": "code",
   "execution_count": 51,
   "id": "d73210bd-2494-4a8b-b07d-412dd92b690f",
   "metadata": {},
   "outputs": [
    {
     "name": "stdout",
     "output_type": "stream",
     "text": [
      "one\n",
      "two\n",
      "three\n",
      "four\n"
     ]
    }
   ],
   "source": [
    "for x in dict2.values():\n",
    "    print(x)"
   ]
  },
  {
   "cell_type": "code",
   "execution_count": 52,
   "id": "27e7aaf0-6529-41ea-b726-3e5bd264d949",
   "metadata": {},
   "outputs": [
    {
     "data": {
      "text/plain": [
       "{}"
      ]
     },
     "execution_count": 52,
     "metadata": {},
     "output_type": "execute_result"
    }
   ],
   "source": [
    "dict2.clear()\n",
    "dict2"
   ]
  },
  {
   "cell_type": "code",
   "execution_count": 53,
   "id": "da867286-83d2-46c6-98e7-b7b2ed055d40",
   "metadata": {},
   "outputs": [
    {
     "ename": "NameError",
     "evalue": "name 'dict2' is not defined",
     "output_type": "error",
     "traceback": [
      "\u001b[1;31m---------------------------------------------------------------------------\u001b[0m",
      "\u001b[1;31mNameError\u001b[0m                                 Traceback (most recent call last)",
      "Cell \u001b[1;32mIn[53], line 2\u001b[0m\n\u001b[0;32m      1\u001b[0m \u001b[38;5;28;01mdel\u001b[39;00m dict2\n\u001b[1;32m----> 2\u001b[0m dict2\n",
      "\u001b[1;31mNameError\u001b[0m: name 'dict2' is not defined"
     ]
    }
   ],
   "source": [
    "del dict2\n",
    "dict2"
   ]
  },
  {
   "cell_type": "code",
   "execution_count": 54,
   "id": "0992ce91-4221-4490-b730-57985a360e2a",
   "metadata": {},
   "outputs": [
    {
     "data": {
      "text/plain": [
       "{'1': None, '2': None, '3': None}"
      ]
     },
     "execution_count": 54,
     "metadata": {},
     "output_type": "execute_result"
    }
   ],
   "source": [
    "dict2 = dict3\n",
    "dict2"
   ]
  },
  {
   "cell_type": "code",
   "execution_count": 56,
   "id": "afbf583e-ac15-4560-af18-7f5d5952eed4",
   "metadata": {},
   "outputs": [
    {
     "data": {
      "text/plain": [
       "{'1': 'one', '2': 'one', '3': 'one'}"
      ]
     },
     "execution_count": 56,
     "metadata": {},
     "output_type": "execute_result"
    }
   ],
   "source": [
    "for i in dict2(i,y):\n",
    "    dict2[i] = \"one\"\n",
    "\n",
    "dict2"
   ]
  },
  {
   "cell_type": "markdown",
   "id": "2bb4f74f-1733-4047-95a5-3e06aaec9eb9",
   "metadata": {},
   "source": [
    "Nested Dict"
   ]
  },
  {
   "cell_type": "code",
   "execution_count": 61,
   "id": "5a60254e-ac40-4b78-989c-e1567eb82f6f",
   "metadata": {},
   "outputs": [
    {
     "name": "stdout",
     "output_type": "stream",
     "text": [
      "{'a': 'x1 one', 'b': 'x1 two'}\n",
      "{'a': 'x2 one', 'b': 'x2 two'}\n",
      "{'x1': {'a': 'x1 one', 'b': 'x1 two'}, 'x2': {'a': 'x2 one', 'b': 'x2 two'}}\n"
     ]
    }
   ],
   "source": [
    "x1 = {'a':'x1 one', 'b':\"x1 two\"}\n",
    "x2 = {'a':'x2 one', 'b':\"x2 two\"}\n",
    "x3 = {\"x1\" : x1 , \"x2\" : x2}\n",
    "print(x1)\n",
    "print(x2)\n",
    "print(x3)"
   ]
  },
  {
   "cell_type": "code",
   "execution_count": 62,
   "id": "9e7f2787-5c1c-445d-93a7-10cad1100f0c",
   "metadata": {},
   "outputs": [
    {
     "name": "stdout",
     "output_type": "stream",
     "text": [
      "x1 one\n"
     ]
    }
   ],
   "source": [
    "print(x3[\"x1\"][\"a\"])"
   ]
  },
  {
   "cell_type": "code",
   "execution_count": 71,
   "id": "601134ac-3099-4bd2-82ab-20264a9df2bc",
   "metadata": {},
   "outputs": [
    {
     "name": "stdout",
     "output_type": "stream",
     "text": [
      "{'a': 'x1 one', 'b': 'x1 two'}\n",
      "a : x1 one\n",
      "b : x1 two\n",
      "{'a': 'x2 one', 'b': 'x2 two'}\n",
      "a : x2 one\n",
      "b : x2 two\n"
     ]
    }
   ],
   "source": [
    "for i, obj in x3.items():\n",
    "    print(obj)\n",
    "    \n",
    "    for y in obj:\n",
    "        print(y , \":\", obj[y])\n",
    "\n",
    "    \n",
    "\n"
   ]
  },
  {
   "cell_type": "code",
   "execution_count": 80,
   "id": "1f3e34cd-29e1-461b-ab8f-465fc9d526a6",
   "metadata": {},
   "outputs": [
    {
     "name": "stdout",
     "output_type": "stream",
     "text": [
      "a : x1 one\n",
      "b : x1 two\n"
     ]
    }
   ],
   "source": [
    "for i,y in x1.items():\n",
    "    print(i, \":\", y)"
   ]
  },
  {
   "cell_type": "code",
   "execution_count": 83,
   "id": "aa9fb23d-e43c-468a-9ac9-c114dfdb86db",
   "metadata": {},
   "outputs": [
    {
     "name": "stdout",
     "output_type": "stream",
     "text": [
      "{'a': 'x1 one', 'b': 'x1 two'}\n",
      "a : x1 one\n",
      "b : x1 two\n",
      "{'a': 'x2 one', 'b': 'x2 two'}\n",
      "a : x2 one\n",
      "b : x2 two\n"
     ]
    }
   ],
   "source": [
    "for x,y in x3.items():\n",
    "    print(y)\n",
    "\n",
    "    for i in y:\n",
    "        print(i, \":\" ,y[i])\n"
   ]
  },
  {
   "cell_type": "code",
   "execution_count": 86,
   "id": "406551b9-4ab1-4ed8-a5c1-d7e5f523dcbd",
   "metadata": {},
   "outputs": [
    {
     "name": "stdout",
     "output_type": "stream",
     "text": [
      "a : x1 one\n",
      "b : x1 two\n"
     ]
    },
    {
     "data": {
      "text/plain": [
       "dict_items([('a', 'x1 one'), ('b', 'x1 two')])"
      ]
     },
     "execution_count": 86,
     "metadata": {},
     "output_type": "execute_result"
    }
   ],
   "source": [
    "x1 = {'a':'x1 one', 'b':\"x1 two\"}\n",
    "\n",
    "for i in x1:\n",
    "    print(i, \":\",x1[i])\n",
    "\n",
    "x1.items()"
   ]
  },
  {
   "cell_type": "code",
   "execution_count": null,
   "id": "bf26f913-a055-4327-be3f-264969375a80",
   "metadata": {},
   "outputs": [],
   "source": []
  }
 ],
 "metadata": {
  "kernelspec": {
   "display_name": "Python [conda env:base] *",
   "language": "python",
   "name": "conda-base-py"
  },
  "language_info": {
   "codemirror_mode": {
    "name": "ipython",
    "version": 3
   },
   "file_extension": ".py",
   "mimetype": "text/x-python",
   "name": "python",
   "nbconvert_exporter": "python",
   "pygments_lexer": "ipython3",
   "version": "3.12.7"
  }
 },
 "nbformat": 4,
 "nbformat_minor": 5
}
