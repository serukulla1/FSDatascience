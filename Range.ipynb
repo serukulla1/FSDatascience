{
 "cells": [
  {
   "cell_type": "markdown",
   "id": "1453a7f3-770d-4bec-9f6a-3e387231763e",
   "metadata": {},
   "source": [
    "Range"
   ]
  },
  {
   "cell_type": "code",
   "execution_count": 1,
   "id": "34ac5512-1e3b-491a-aae2-793eaa59b14b",
   "metadata": {},
   "outputs": [],
   "source": [
    "l = ['a', 3, 3.4, 1+2j]"
   ]
  },
  {
   "cell_type": "code",
   "execution_count": 2,
   "id": "7a523097-31ac-45bb-8a0e-bf0db9de55b3",
   "metadata": {},
   "outputs": [
    {
     "ename": "TypeError",
     "evalue": "'<' not supported between instances of 'int' and 'str'",
     "output_type": "error",
     "traceback": [
      "\u001b[1;31m---------------------------------------------------------------------------\u001b[0m",
      "\u001b[1;31mTypeError\u001b[0m                                 Traceback (most recent call last)",
      "Cell \u001b[1;32mIn[2], line 1\u001b[0m\n\u001b[1;32m----> 1\u001b[0m l\u001b[38;5;241m.\u001b[39msort()\n",
      "\u001b[1;31mTypeError\u001b[0m: '<' not supported between instances of 'int' and 'str'"
     ]
    }
   ],
   "source": [
    "l.sort()"
   ]
  },
  {
   "cell_type": "code",
   "execution_count": 8,
   "id": "6a09ae2e-288d-4144-82d6-ecd39d0b73a0",
   "metadata": {},
   "outputs": [
    {
     "name": "stdout",
     "output_type": "stream",
     "text": [
      "['a', 'b', 'h', 'c', 'f', 'z']\n"
     ]
    },
    {
     "data": {
      "text/plain": [
       "['a', 'b', 'c', 'f', 'h', 'z']"
      ]
     },
     "execution_count": 8,
     "metadata": {},
     "output_type": "execute_result"
    }
   ],
   "source": [
    "l2 = [\"c\", \"f\", \"b\", \"a\" , \"z\"]\n",
    "l2.sort()\n",
    "l2\n",
    "l2.insert(2,\"h\")\n",
    "print(l2)\n",
    "\n",
    "l2.sort()\n",
    "l2"
   ]
  },
  {
   "cell_type": "code",
   "execution_count": 14,
   "id": "6ef15dc7-3c88-4f87-bc32-da2d7b694dfa",
   "metadata": {},
   "outputs": [
    {
     "name": "stdout",
     "output_type": "stream",
     "text": [
      "['a', 'b', 'c', 'f', 'h', 'z']\n",
      "['z', 'h', 'f', 'c', 'b', 'a']\n"
     ]
    }
   ],
   "source": [
    "l2.reverse()\n",
    "print(l2)\n",
    "\n",
    "l2.sort(reverse=True)\n",
    "print(l2)"
   ]
  },
  {
   "cell_type": "code",
   "execution_count": 16,
   "id": "f265e229-cf88-45ad-89ad-190bf317f4f7",
   "metadata": {},
   "outputs": [
    {
     "name": "stdout",
     "output_type": "stream",
     "text": [
      "['z', 'h', 'f', 'c', 'b', 'a']\n",
      "['a', 'b', 'c', 'f', 'h', 'z']\n",
      "['z', 'h', 'f', 'c', 'b', 'a']\n"
     ]
    }
   ],
   "source": [
    "print(l2)\n",
    "\n",
    "l2.reverse()\n",
    "print(l2)\n",
    "\n",
    "l2.sort(reverse=True)\n",
    "print(l2)"
   ]
  },
  {
   "cell_type": "code",
   "execution_count": 28,
   "id": "1fabd557-2d79-4d1c-bc92-fc6b735110e0",
   "metadata": {},
   "outputs": [
    {
     "name": "stdout",
     "output_type": "stream",
     "text": [
      "range\n",
      "r\n",
      "a\n",
      "n\n",
      "g\n",
      "e\n",
      "r\n",
      "a\n",
      "n\n",
      "g\n",
      "e\n"
     ]
    }
   ],
   "source": [
    "l=[1,2,3,\"range\"]\n",
    "\n",
    "print(l[3])\n",
    "\n",
    "l2=\"range\"\n",
    "for i in l2:\n",
    "    print (i)\n",
    "\n",
    "\n",
    "for i in l[3]:\n",
    "    print(i)"
   ]
  },
  {
   "cell_type": "code",
   "execution_count": 29,
   "id": "7bd97990-31f5-4deb-a96f-59435ebec7bf",
   "metadata": {},
   "outputs": [
    {
     "name": "stdout",
     "output_type": "stream",
     "text": [
      "(0, 1)\n",
      "(1, 2)\n",
      "(2, 3)\n",
      "(3, 'range')\n"
     ]
    }
   ],
   "source": [
    "for i in enumerate(l):\n",
    "    print(i)"
   ]
  },
  {
   "cell_type": "code",
   "execution_count": 31,
   "id": "0b99c9e4-3893-4fb6-8b2b-9e46ba9a0e69",
   "metadata": {},
   "outputs": [
    {
     "data": {
      "text/plain": [
       "True"
      ]
     },
     "execution_count": 31,
     "metadata": {},
     "output_type": "execute_result"
    }
   ],
   "source": [
    "all(l)"
   ]
  },
  {
   "cell_type": "code",
   "execution_count": 38,
   "id": "bc332999-ab11-4252-b558-caebeb637a5f",
   "metadata": {},
   "outputs": [
    {
     "ename": "AttributeError",
     "evalue": "'str' object has no attribute 'append'",
     "output_type": "error",
     "traceback": [
      "\u001b[1;31m---------------------------------------------------------------------------\u001b[0m",
      "\u001b[1;31mAttributeError\u001b[0m                            Traceback (most recent call last)",
      "Cell \u001b[1;32mIn[38], line 1\u001b[0m\n\u001b[1;32m----> 1\u001b[0m l2\u001b[38;5;241m.\u001b[39mappend(\u001b[38;5;124m\"\u001b[39m\u001b[38;5;124m0\u001b[39m\u001b[38;5;124m\"\u001b[39m)\n\u001b[0;32m      2\u001b[0m \u001b[38;5;28mprint\u001b[39m(l2)\n\u001b[0;32m      4\u001b[0m \u001b[38;5;28mall\u001b[39m(l2)\n",
      "\u001b[1;31mAttributeError\u001b[0m: 'str' object has no attribute 'append'"
     ]
    }
   ],
   "source": [
    "l2.append(\"0\")\n",
    "print(l2)\n",
    "\n",
    "all(l2)"
   ]
  },
  {
   "cell_type": "code",
   "execution_count": 34,
   "id": "15689f96-096b-4ec1-99cb-52c106de2442",
   "metadata": {},
   "outputs": [
    {
     "data": {
      "text/plain": [
       "True"
      ]
     },
     "execution_count": 34,
     "metadata": {},
     "output_type": "execute_result"
    }
   ],
   "source": [
    "l4=[1,2.3,4]\n",
    "\n",
    "all(l4)"
   ]
  },
  {
   "cell_type": "code",
   "execution_count": 36,
   "id": "3ccc9415-4c69-4c91-8da2-68a85ba1514c",
   "metadata": {},
   "outputs": [
    {
     "data": {
      "text/plain": [
       "[1, 2.3, 4, 5, 0]"
      ]
     },
     "execution_count": 36,
     "metadata": {},
     "output_type": "execute_result"
    }
   ],
   "source": [
    "l4.append(0)\n",
    "l4"
   ]
  },
  {
   "cell_type": "code",
   "execution_count": 37,
   "id": "88f61223-296c-4a9b-b343-f3af065c0a9b",
   "metadata": {},
   "outputs": [
    {
     "data": {
      "text/plain": [
       "False"
      ]
     },
     "execution_count": 37,
     "metadata": {},
     "output_type": "execute_result"
    }
   ],
   "source": [
    "all(l4)"
   ]
  },
  {
   "cell_type": "code",
   "execution_count": 39,
   "id": "caf76c42-d9eb-4fdf-8c31-d9c33d09545d",
   "metadata": {},
   "outputs": [
    {
     "data": {
      "text/plain": [
       "(10, 20, 30, 40)"
      ]
     },
     "execution_count": 39,
     "metadata": {},
     "output_type": "execute_result"
    }
   ],
   "source": [
    "t1=(10,20,30,40)\n",
    "t1"
   ]
  },
  {
   "cell_type": "code",
   "execution_count": 40,
   "id": "e8a275ea-42de-4137-b97a-1e9478fcfa71",
   "metadata": {},
   "outputs": [
    {
     "data": {
      "text/plain": [
       "(10, 20, 30, 40)"
      ]
     },
     "execution_count": 40,
     "metadata": {},
     "output_type": "execute_result"
    }
   ],
   "source": [
    "t2=t1\n",
    "t2"
   ]
  },
  {
   "cell_type": "code",
   "execution_count": 41,
   "id": "11e48b49-4453-4b91-a5f9-180b0ef3851b",
   "metadata": {},
   "outputs": [
    {
     "data": {
      "text/plain": [
       "(10, 20, 30, 40, 10, 20, 30, 40)"
      ]
     },
     "execution_count": 41,
     "metadata": {},
     "output_type": "execute_result"
    }
   ],
   "source": [
    "t2 = t1 * 2\n",
    "t2"
   ]
  },
  {
   "cell_type": "markdown",
   "id": "20b01efc-7e77-48c4-9f30-8761d78ba8df",
   "metadata": {},
   "source": [
    "t1\n"
   ]
  },
  {
   "cell_type": "code",
   "execution_count": 42,
   "id": "ecf48e70-fcc6-4f72-9d19-662d58cfaa4c",
   "metadata": {},
   "outputs": [
    {
     "data": {
      "text/plain": [
       "(10, 20, 30, 40)"
      ]
     },
     "execution_count": 42,
     "metadata": {},
     "output_type": "execute_result"
    }
   ],
   "source": [
    "t1"
   ]
  },
  {
   "cell_type": "code",
   "execution_count": 43,
   "id": "ff67844f-808e-4ed4-86c3-7ea3f49f4816",
   "metadata": {},
   "outputs": [
    {
     "data": {
      "text/plain": [
       "4"
      ]
     },
     "execution_count": 43,
     "metadata": {},
     "output_type": "execute_result"
    }
   ],
   "source": [
    "len(t1)"
   ]
  },
  {
   "cell_type": "code",
   "execution_count": 44,
   "id": "bb4fb09c-9f92-44b7-85b0-d442591616ce",
   "metadata": {},
   "outputs": [
    {
     "data": {
      "text/plain": [
       "set"
      ]
     },
     "execution_count": 44,
     "metadata": {},
     "output_type": "execute_result"
    }
   ],
   "source": [
    "s1 = {90, 80 , 3, 13, 47, 100, 1}\n",
    "type(s1)"
   ]
  },
  {
   "cell_type": "code",
   "execution_count": 45,
   "id": "0020c4c3-ba26-4b06-ad1a-31b1e3bde14b",
   "metadata": {},
   "outputs": [
    {
     "data": {
      "text/plain": [
       "{1, 100, 13, '20', 3, 47, 80, 90}"
      ]
     },
     "execution_count": 45,
     "metadata": {},
     "output_type": "execute_result"
    }
   ],
   "source": [
    "s1.add(\"20\")\n",
    "s1"
   ]
  },
  {
   "cell_type": "code",
   "execution_count": 47,
   "id": "f43a1958-7ec2-491f-89a3-d44a2f33fddf",
   "metadata": {},
   "outputs": [
    {
     "data": {
      "text/plain": [
       "{10, 20, 'hello', 'hjk'}"
      ]
     },
     "execution_count": 47,
     "metadata": {},
     "output_type": "execute_result"
    }
   ],
   "source": [
    "s2 = {\"hello\", 10, 20, \"hjk\"}\n",
    "s2"
   ]
  },
  {
   "cell_type": "code",
   "execution_count": 48,
   "id": "c343cb0a-4a34-4ed3-8f06-baa29fe27f5b",
   "metadata": {},
   "outputs": [
    {
     "data": {
      "text/plain": [
       "{1, 100, 13, '20', 3, 47, 80, 90}"
      ]
     },
     "execution_count": 48,
     "metadata": {},
     "output_type": "execute_result"
    }
   ],
   "source": [
    "s1.difference(s2)"
   ]
  },
  {
   "cell_type": "code",
   "execution_count": 49,
   "id": "13f9a060-7dca-40ba-a4b7-c636f78be8cb",
   "metadata": {},
   "outputs": [
    {
     "data": {
      "text/plain": [
       "{1, 3, 13, 47, 80, 90, 100}"
      ]
     },
     "execution_count": 49,
     "metadata": {},
     "output_type": "execute_result"
    }
   ],
   "source": [
    "s1.remove(\"20\")\n",
    "s1"
   ]
  },
  {
   "cell_type": "code",
   "execution_count": 50,
   "id": "9387b5ae-52d9-494a-90d8-497e6d3217a2",
   "metadata": {},
   "outputs": [
    {
     "data": {
      "text/plain": [
       "{1, 3, 13, 20, 47, 80, 90, 100}"
      ]
     },
     "execution_count": 50,
     "metadata": {},
     "output_type": "execute_result"
    }
   ],
   "source": [
    "s1.add(20)\n",
    "s1"
   ]
  },
  {
   "cell_type": "code",
   "execution_count": 51,
   "id": "d17eaf11-1ef7-4f6a-be13-d0301bbf86b6",
   "metadata": {},
   "outputs": [
    {
     "data": {
      "text/plain": [
       "{1, 3, 13, 47, 80, 90, 100}"
      ]
     },
     "execution_count": 51,
     "metadata": {},
     "output_type": "execute_result"
    }
   ],
   "source": [
    "s1.difference(s2)\n"
   ]
  },
  {
   "cell_type": "code",
   "execution_count": 52,
   "id": "b379c335-be21-4fbd-bce4-a4967610045e",
   "metadata": {},
   "outputs": [
    {
     "data": {
      "text/plain": [
       "{10, 'hello', 'hjk'}"
      ]
     },
     "execution_count": 52,
     "metadata": {},
     "output_type": "execute_result"
    }
   ],
   "source": [
    "s2.difference(s1)"
   ]
  },
  {
   "cell_type": "code",
   "execution_count": 55,
   "id": "415a60fd-bad0-42e0-a6eb-305c9f89db30",
   "metadata": {},
   "outputs": [
    {
     "data": {
      "text/plain": [
       "{1, 10, 100, 13, 3, 47, 80, 90, 'hello', 'hjk'}"
      ]
     },
     "execution_count": 55,
     "metadata": {},
     "output_type": "execute_result"
    }
   ],
   "source": [
    "s1.symmetric_difference(s2)"
   ]
  },
  {
   "cell_type": "code",
   "execution_count": 56,
   "id": "8cceb7d8-b387-4469-8485-a340c35ced29",
   "metadata": {},
   "outputs": [
    {
     "data": {
      "text/plain": [
       "{1, 3, 13, 20, 47, 80, 90, 100}"
      ]
     },
     "execution_count": 56,
     "metadata": {},
     "output_type": "execute_result"
    }
   ],
   "source": [
    "s1"
   ]
  },
  {
   "cell_type": "code",
   "execution_count": 60,
   "id": "7da850b3-3452-44dc-82e5-d654b543d0a4",
   "metadata": {},
   "outputs": [],
   "source": [
    "s1.symmetric_difference_update(s2)"
   ]
  },
  {
   "cell_type": "code",
   "execution_count": 61,
   "id": "529e869f-f86c-4759-bdc7-c19000b8c4a8",
   "metadata": {},
   "outputs": [
    {
     "data": {
      "text/plain": [
       "{1, 10, 100, 13, 3, 47, 80, 90, 'hello', 'hjk'}"
      ]
     },
     "execution_count": 61,
     "metadata": {},
     "output_type": "execute_result"
    }
   ],
   "source": [
    "s1"
   ]
  },
  {
   "cell_type": "code",
   "execution_count": 62,
   "id": "5db3fe14-ff80-48df-9c78-0308f64f1cce",
   "metadata": {},
   "outputs": [
    {
     "data": {
      "text/plain": [
       "{1, 3, 13, 20, 47, 80, 90, 100}"
      ]
     },
     "execution_count": 62,
     "metadata": {},
     "output_type": "execute_result"
    }
   ],
   "source": [
    "s1={1, 3, 13, 20, 47, 80, 90, 100}\n",
    "s1"
   ]
  },
  {
   "cell_type": "code",
   "execution_count": 63,
   "id": "ac266f6f-17fb-4928-9b61-8cc6181d478b",
   "metadata": {},
   "outputs": [
    {
     "data": {
      "text/plain": [
       "{1, 3, 13, 20, 47, 80, 90, 100}"
      ]
     },
     "execution_count": 63,
     "metadata": {},
     "output_type": "execute_result"
    }
   ],
   "source": [
    "s3 = s1\n",
    "s3"
   ]
  },
  {
   "cell_type": "code",
   "execution_count": 64,
   "id": "5132b787-3d0a-4775-b4e0-4e27a27b0d46",
   "metadata": {},
   "outputs": [
    {
     "name": "stdout",
     "output_type": "stream",
     "text": [
      "{1, 3, 100, 'hjk', 10, 13, 47, 80, 'hello', 90}\n",
      "{1, 3, 100, 'hjk', 10, 13, 47, 80, 'hello', 90}\n"
     ]
    }
   ],
   "source": [
    "s1.symmetric_difference_update(s2)\n",
    "print(s1)\n",
    "print(s3)"
   ]
  },
  {
   "cell_type": "code",
   "execution_count": 65,
   "id": "814fb3d1-bc7d-4574-a09a-f2053204e44c",
   "metadata": {},
   "outputs": [
    {
     "data": {
      "text/plain": [
       "{1, 3, 13, 20, 47, 80, 90, 100}"
      ]
     },
     "execution_count": 65,
     "metadata": {},
     "output_type": "execute_result"
    }
   ],
   "source": [
    "s1={1, 3, 13, 20, 47, 80, 90, 100}\n",
    "s3=s1.copy()\n",
    "s3\n"
   ]
  },
  {
   "cell_type": "code",
   "execution_count": 66,
   "id": "3bdbc98b-f11d-488b-a40a-c767581c57b7",
   "metadata": {},
   "outputs": [
    {
     "name": "stdout",
     "output_type": "stream",
     "text": [
      "{1, 3, 100, 'hjk', 10, 13, 47, 80, 'hello', 90}\n",
      "{1, 3, 100, 13, 47, 80, 20, 90}\n"
     ]
    }
   ],
   "source": [
    "s1.symmetric_difference_update(s2)\n",
    "print(s1)\n",
    "print(s3)"
   ]
  },
  {
   "cell_type": "code",
   "execution_count": 67,
   "id": "186312ae-9d65-4154-8d94-f02a5a4c49bc",
   "metadata": {},
   "outputs": [],
   "source": [
    "A2 = {1,2,3,4,5,6,7,8,9}\n",
    "B2 = {30,40,50,60,70,80}\n",
    "C2 = {10,20,30,40}"
   ]
  },
  {
   "cell_type": "code",
   "execution_count": 70,
   "id": "e1873e5c-8f8c-4915-b4bf-5f4b0255c92f",
   "metadata": {},
   "outputs": [
    {
     "data": {
      "text/plain": [
       "False"
      ]
     },
     "execution_count": 70,
     "metadata": {},
     "output_type": "execute_result"
    }
   ],
   "source": [
    "A2.issuperset(B2)\n"
   ]
  },
  {
   "cell_type": "code",
   "execution_count": 71,
   "id": "dfd3afd3-218f-46ec-b23c-bd8c5e0e7765",
   "metadata": {},
   "outputs": [
    {
     "data": {
      "text/plain": [
       "False"
      ]
     },
     "execution_count": 71,
     "metadata": {},
     "output_type": "execute_result"
    }
   ],
   "source": [
    "A2.issubset(B2)"
   ]
  },
  {
   "cell_type": "code",
   "execution_count": 72,
   "id": "206aa209-df0f-45fb-990b-dafcff5fd76e",
   "metadata": {},
   "outputs": [
    {
     "data": {
      "text/plain": [
       "range(0, 5)"
      ]
     },
     "execution_count": 72,
     "metadata": {},
     "output_type": "execute_result"
    }
   ],
   "source": [
    "range(0,5)\n"
   ]
  },
  {
   "cell_type": "code",
   "execution_count": 73,
   "id": "71af2876-810b-4bfd-8291-e0566e35e94d",
   "metadata": {},
   "outputs": [
    {
     "data": {
      "text/plain": [
       "[0, 1, 2, 3, 4]"
      ]
     },
     "execution_count": 73,
     "metadata": {},
     "output_type": "execute_result"
    }
   ],
   "source": [
    "list(range(0,5))"
   ]
  },
  {
   "cell_type": "code",
   "execution_count": 76,
   "id": "6c9d0e78-b12e-441a-9151-375c289f0beb",
   "metadata": {},
   "outputs": [
    {
     "name": "stdout",
     "output_type": "stream",
     "text": [
      "0\n",
      "2\n",
      "4\n"
     ]
    }
   ],
   "source": [
    "for i in range(0,5,2):\n",
    "    print (i)"
   ]
  },
  {
   "cell_type": "code",
   "execution_count": 80,
   "id": "3efb7a87-8439-47ed-9361-923262be4122",
   "metadata": {},
   "outputs": [
    {
     "data": {
      "text/plain": [
       "[0, 1, 2, 3, 4, 5, 6, 7, 8, 9]"
      ]
     },
     "execution_count": 80,
     "metadata": {},
     "output_type": "execute_result"
    }
   ],
   "source": [
    "l1=list(range(0,10))\n",
    "l1"
   ]
  },
  {
   "cell_type": "code",
   "execution_count": 82,
   "id": "a47aa756-7654-44d9-a46f-f1c32042a4f4",
   "metadata": {},
   "outputs": [
    {
     "data": {
      "text/plain": [
       "(1, 2, 3, 4, 5, 6, 7, 8, 9)"
      ]
     },
     "execution_count": 82,
     "metadata": {},
     "output_type": "execute_result"
    }
   ],
   "source": [
    "tuple(range(1,10))"
   ]
  },
  {
   "cell_type": "code",
   "execution_count": 83,
   "id": "d65363d6-fd5a-4ab0-91d1-f666ecbea331",
   "metadata": {},
   "outputs": [
    {
     "data": {
      "text/plain": [
       "{0, 1, 2, 3, 4, 5, 6, 7, 8, 9}"
      ]
     },
     "execution_count": 83,
     "metadata": {},
     "output_type": "execute_result"
    }
   ],
   "source": [
    "set(range(0,10))"
   ]
  },
  {
   "cell_type": "code",
   "execution_count": 84,
   "id": "cf7269f9-68c5-4df9-9838-68a9f0b81498",
   "metadata": {},
   "outputs": [],
   "source": [
    "l = ['a', 'b', 'c', 1, 2.3, 45, True, 1+2j]"
   ]
  },
  {
   "cell_type": "code",
   "execution_count": 85,
   "id": "75ffc2ff-0388-46b9-9eb9-a0c0f1895aa8",
   "metadata": {},
   "outputs": [
    {
     "data": {
      "text/plain": [
       "['a', 'b', 'c', 1, 2.3, 45, True, (1+2j)]"
      ]
     },
     "execution_count": 85,
     "metadata": {},
     "output_type": "execute_result"
    }
   ],
   "source": [
    "l"
   ]
  },
  {
   "cell_type": "code",
   "execution_count": 86,
   "id": "cd5180f3-362e-4d29-8186-ff45f968d08a",
   "metadata": {},
   "outputs": [
    {
     "data": {
      "text/plain": [
       "['a', 'b', 'c', 1, 2.3, 45, True, (1+2j)]"
      ]
     },
     "execution_count": 86,
     "metadata": {},
     "output_type": "execute_result"
    }
   ],
   "source": [
    "l[:]"
   ]
  },
  {
   "cell_type": "code",
   "execution_count": 87,
   "id": "7e9ed6b1-575f-40f1-9d5e-0d48fc33ca2b",
   "metadata": {},
   "outputs": [
    {
     "data": {
      "text/plain": [
       "['a', 'b', 'c', 1, 2.3, 45, True, (1+2j)]"
      ]
     },
     "execution_count": 87,
     "metadata": {},
     "output_type": "execute_result"
    }
   ],
   "source": [
    "l[0:]"
   ]
  },
  {
   "cell_type": "code",
   "execution_count": 88,
   "id": "721571ab-ea9f-4368-97d8-0da1808cc3c9",
   "metadata": {},
   "outputs": [
    {
     "data": {
      "text/plain": [
       "['a', 'b', 'c', 1]"
      ]
     },
     "execution_count": 88,
     "metadata": {},
     "output_type": "execute_result"
    }
   ],
   "source": [
    "l[0:4]"
   ]
  },
  {
   "cell_type": "code",
   "execution_count": 89,
   "id": "7a86b9d6-e938-4452-8fc1-d101792cf516",
   "metadata": {},
   "outputs": [
    {
     "data": {
      "text/plain": [
       "[(1+2j)]"
      ]
     },
     "execution_count": 89,
     "metadata": {},
     "output_type": "execute_result"
    }
   ],
   "source": [
    "l[-1:]"
   ]
  },
  {
   "cell_type": "code",
   "execution_count": 90,
   "id": "a5de3f83-5c4a-4acc-8659-bf5e27f583be",
   "metadata": {},
   "outputs": [
    {
     "data": {
      "text/plain": [
       "['a', 'b', 'c', 1, 2.3, 45, True]"
      ]
     },
     "execution_count": 90,
     "metadata": {},
     "output_type": "execute_result"
    }
   ],
   "source": [
    "l[:-1]"
   ]
  },
  {
   "cell_type": "code",
   "execution_count": 96,
   "id": "d3a94d34-1a9e-4609-9e45-be016b3af765",
   "metadata": {},
   "outputs": [
    {
     "name": "stdout",
     "output_type": "stream",
     "text": [
      "olleh\n"
     ]
    }
   ],
   "source": [
    "str1= \"hello\"\n",
    "print(str1[::-1])"
   ]
  },
  {
   "cell_type": "code",
   "execution_count": null,
   "id": "f19c99e4-9ec1-4174-a7f5-da2540ebbd97",
   "metadata": {},
   "outputs": [],
   "source": []
  }
 ],
 "metadata": {
  "kernelspec": {
   "display_name": "Python [conda env:base] *",
   "language": "python",
   "name": "conda-base-py"
  },
  "language_info": {
   "codemirror_mode": {
    "name": "ipython",
    "version": 3
   },
   "file_extension": ".py",
   "mimetype": "text/x-python",
   "name": "python",
   "nbconvert_exporter": "python",
   "pygments_lexer": "ipython3",
   "version": "3.12.7"
  }
 },
 "nbformat": 4,
 "nbformat_minor": 5
}
