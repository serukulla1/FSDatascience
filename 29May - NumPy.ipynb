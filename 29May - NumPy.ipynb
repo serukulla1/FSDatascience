{
 "cells": [
  {
   "cell_type": "code",
   "execution_count": 2,
   "id": "9b34f1c6-6649-4be1-b75c-f70478a976dd",
   "metadata": {},
   "outputs": [],
   "source": [
    "import numpy as np"
   ]
  },
  {
   "cell_type": "code",
   "execution_count": 3,
   "id": "636f4364-e50b-4e82-88f1-025688d5b815",
   "metadata": {},
   "outputs": [
    {
     "data": {
      "text/plain": [
       "'1.26.4'"
      ]
     },
     "execution_count": 3,
     "metadata": {},
     "output_type": "execute_result"
    }
   ],
   "source": [
    "np.__version__"
   ]
  },
  {
   "cell_type": "code",
   "execution_count": 5,
   "id": "8f43435a-c9e2-4cca-ac5a-e00562534a0b",
   "metadata": {},
   "outputs": [
    {
     "data": {
      "text/plain": [
       "'3.12.7 | packaged by Anaconda, Inc. | (main, Oct  4 2024, 13:17:27) [MSC v.1929 64 bit (AMD64)]'"
      ]
     },
     "execution_count": 5,
     "metadata": {},
     "output_type": "execute_result"
    }
   ],
   "source": [
    "import sys\n",
    "sys.version"
   ]
  },
  {
   "cell_type": "code",
   "execution_count": 8,
   "id": "94899785-d26c-4fa6-8de7-f331387fd0cd",
   "metadata": {},
   "outputs": [],
   "source": [
    "mylist=[0,1,2,3,4,5]\n",
    "arr=np.array(mylist)"
   ]
  },
  {
   "cell_type": "code",
   "execution_count": 9,
   "id": "ea7ceb8f-5def-4012-8bc9-13e67dd00003",
   "metadata": {},
   "outputs": [
    {
     "data": {
      "text/plain": [
       "array([0, 1, 2, 3, 4, 5])"
      ]
     },
     "execution_count": 9,
     "metadata": {},
     "output_type": "execute_result"
    }
   ],
   "source": [
    "arr"
   ]
  },
  {
   "cell_type": "code",
   "execution_count": 13,
   "id": "980cf347-a1ac-46f2-9dcb-115a0879bb5c",
   "metadata": {},
   "outputs": [
    {
     "name": "stdout",
     "output_type": "stream",
     "text": [
      "<class 'list'>\n",
      "<class 'numpy.ndarray'>\n"
     ]
    }
   ],
   "source": [
    "print(type(mylist))\n",
    "print(type(arr))"
   ]
  },
  {
   "cell_type": "code",
   "execution_count": 17,
   "id": "d83fed2f-bf4c-4fef-922f-3ccbc2dcf349",
   "metadata": {},
   "outputs": [
    {
     "data": {
      "text/plain": [
       "array([ 0,  1,  2,  3,  4,  5,  6,  7,  8,  9, 10, 11, 12, 13, 14, 15, 16,\n",
       "       17, 18, 19])"
      ]
     },
     "execution_count": 17,
     "metadata": {},
     "output_type": "execute_result"
    }
   ],
   "source": [
    "np.arange(20)"
   ]
  },
  {
   "cell_type": "code",
   "execution_count": 18,
   "id": "8cd9cc50-365b-4b2f-b5a7-a14a82e3e632",
   "metadata": {},
   "outputs": [
    {
     "data": {
      "text/plain": [
       "array([0., 1., 2., 3., 4.])"
      ]
     },
     "execution_count": 18,
     "metadata": {},
     "output_type": "execute_result"
    }
   ],
   "source": [
    "np.arange(5.0)"
   ]
  },
  {
   "cell_type": "code",
   "execution_count": 20,
   "id": "f87891b3-d525-4d22-925d-1944df8eb5e8",
   "metadata": {},
   "outputs": [
    {
     "data": {
      "text/plain": [
       "array([1, 2, 3, 4])"
      ]
     },
     "execution_count": 20,
     "metadata": {},
     "output_type": "execute_result"
    }
   ],
   "source": [
    "np.arange(1,5)"
   ]
  },
  {
   "cell_type": "code",
   "execution_count": 21,
   "id": "4581a170-1561-41a4-abd2-36bc196c7c52",
   "metadata": {},
   "outputs": [
    {
     "data": {
      "text/plain": [
       "array([1, 3, 5, 7, 9])"
      ]
     },
     "execution_count": 21,
     "metadata": {},
     "output_type": "execute_result"
    }
   ],
   "source": [
    "np.arange(1,10,2)"
   ]
  },
  {
   "cell_type": "code",
   "execution_count": 22,
   "id": "a3404cac-aa4b-4fe2-a26a-06c21e6d8f4e",
   "metadata": {},
   "outputs": [
    {
     "data": {
      "text/plain": [
       "array([10, 15, 20, 25])"
      ]
     },
     "execution_count": 22,
     "metadata": {},
     "output_type": "execute_result"
    }
   ],
   "source": [
    "np.arange(10,30,5)"
   ]
  },
  {
   "cell_type": "code",
   "execution_count": 23,
   "id": "604a3705-bcc4-4db1-8ebc-7039185cbf5c",
   "metadata": {},
   "outputs": [
    {
     "ename": "TypeError",
     "evalue": "Cannot interpret '8' as a data type",
     "output_type": "error",
     "traceback": [
      "\u001b[1;31m---------------------------------------------------------------------------\u001b[0m",
      "\u001b[1;31mTypeError\u001b[0m                                 Traceback (most recent call last)",
      "Cell \u001b[1;32mIn[23], line 1\u001b[0m\n\u001b[1;32m----> 1\u001b[0m np\u001b[38;5;241m.\u001b[39marange(\u001b[38;5;241m10\u001b[39m,\u001b[38;5;241m30\u001b[39m,\u001b[38;5;241m5\u001b[39m,\u001b[38;5;241m8\u001b[39m)\n",
      "\u001b[1;31mTypeError\u001b[0m: Cannot interpret '8' as a data type"
     ]
    }
   ],
   "source": [
    "np.arange(10,30,5,8)"
   ]
  },
  {
   "cell_type": "code",
   "execution_count": 26,
   "id": "da73a6c1-8e21-40bc-88e4-e7a6bd715610",
   "metadata": {},
   "outputs": [
    {
     "data": {
      "text/plain": [
       "array([0., 0., 0., 0., 0., 0., 0., 0., 0., 0.])"
      ]
     },
     "execution_count": 26,
     "metadata": {},
     "output_type": "execute_result"
    }
   ],
   "source": [
    "np.zeros(10)"
   ]
  },
  {
   "cell_type": "code",
   "execution_count": 27,
   "id": "7f3ec7bb-a124-4b91-bb65-fb960e3eb191",
   "metadata": {},
   "outputs": [
    {
     "data": {
      "text/plain": [
       "array([0, 0, 0, 0, 0])"
      ]
     },
     "execution_count": 27,
     "metadata": {},
     "output_type": "execute_result"
    }
   ],
   "source": [
    "np.zeros(5, dtype=int)\n"
   ]
  },
  {
   "cell_type": "code",
   "execution_count": 29,
   "id": "48d32389-e22f-4f65-9fda-d12d9707cc40",
   "metadata": {},
   "outputs": [
    {
     "data": {
      "text/plain": [
       "array([[0, 0],\n",
       "       [0, 0]])"
      ]
     },
     "execution_count": 29,
     "metadata": {},
     "output_type": "execute_result"
    }
   ],
   "source": [
    "np.zeros((2,2), dtype=int) #2 rows and 2 columns"
   ]
  },
  {
   "cell_type": "code",
   "execution_count": 30,
   "id": "8710c88d-bebf-48a8-8ea2-9b92f7ef394a",
   "metadata": {},
   "outputs": [
    {
     "data": {
      "text/plain": [
       "array([[0., 0., 0., 0., 0., 0., 0., 0., 0., 0.],\n",
       "       [0., 0., 0., 0., 0., 0., 0., 0., 0., 0.]])"
      ]
     },
     "execution_count": 30,
     "metadata": {},
     "output_type": "execute_result"
    }
   ],
   "source": [
    "np.zeros((2,10))  #2 rows and 10 columns"
   ]
  },
  {
   "cell_type": "code",
   "execution_count": 31,
   "id": "1db1fdb4-21f4-45d6-bd07-8b6145a3be7c",
   "metadata": {},
   "outputs": [
    {
     "data": {
      "text/plain": [
       "array([[0., 0.],\n",
       "       [0., 0.]])"
      ]
     },
     "execution_count": 31,
     "metadata": {},
     "output_type": "execute_result"
    }
   ],
   "source": [
    "np.zeros((2,2))"
   ]
  },
  {
   "cell_type": "code",
   "execution_count": 32,
   "id": "020c946d-bf26-4d45-850a-a979b6acdba4",
   "metadata": {},
   "outputs": [
    {
     "data": {
      "text/plain": [
       "array([[0, 0, 0, 0, 0, 0, 0, 0, 0, 0],\n",
       "       [0, 0, 0, 0, 0, 0, 0, 0, 0, 0],\n",
       "       [0, 0, 0, 0, 0, 0, 0, 0, 0, 0],\n",
       "       [0, 0, 0, 0, 0, 0, 0, 0, 0, 0],\n",
       "       [0, 0, 0, 0, 0, 0, 0, 0, 0, 0],\n",
       "       [0, 0, 0, 0, 0, 0, 0, 0, 0, 0],\n",
       "       [0, 0, 0, 0, 0, 0, 0, 0, 0, 0],\n",
       "       [0, 0, 0, 0, 0, 0, 0, 0, 0, 0],\n",
       "       [0, 0, 0, 0, 0, 0, 0, 0, 0, 0],\n",
       "       [0, 0, 0, 0, 0, 0, 0, 0, 0, 0]])"
      ]
     },
     "execution_count": 32,
     "metadata": {},
     "output_type": "execute_result"
    }
   ],
   "source": [
    "np.zeros((10,10), dtype=int)"
   ]
  },
  {
   "cell_type": "code",
   "execution_count": 34,
   "id": "ab3bd181-dac8-48ff-b49c-60259a4dfb41",
   "metadata": {},
   "outputs": [
    {
     "data": {
      "text/plain": [
       "array([1., 1.])"
      ]
     },
     "execution_count": 34,
     "metadata": {},
     "output_type": "execute_result"
    }
   ],
   "source": [
    "np.ones(2)"
   ]
  },
  {
   "cell_type": "code",
   "execution_count": 36,
   "id": "ac653e18-d4f2-462d-8c1d-6c8a17086721",
   "metadata": {},
   "outputs": [
    {
     "data": {
      "text/plain": [
       "array([[1, 1],\n",
       "       [1, 1]])"
      ]
     },
     "execution_count": 36,
     "metadata": {},
     "output_type": "execute_result"
    }
   ],
   "source": [
    "np.ones((2,2), dtype = int)"
   ]
  },
  {
   "cell_type": "code",
   "execution_count": null,
   "id": "5a4cfc29-77e3-44b9-8515-ca231e8c7470",
   "metadata": {},
   "outputs": [],
   "source": [
    "\n"
   ]
  },
  {
   "cell_type": "code",
   "execution_count": 55,
   "id": "104bfd28-0de4-40f3-ad69-38b48b2c09bb",
   "metadata": {},
   "outputs": [
    {
     "data": {
      "text/plain": [
       "array([[0.81385497, 0.95638832, 0.44498542, 0.80891056, 0.09609242],\n",
       "       [0.26401749, 0.44224119, 0.59809441, 0.58658452, 0.5165244 ],\n",
       "       [0.33869744, 0.39930721, 0.16732863, 0.6276655 , 0.21144985]])"
      ]
     },
     "execution_count": 55,
     "metadata": {},
     "output_type": "execute_result"
    }
   ],
   "source": [
    "np.random.rand(3,5)"
   ]
  },
  {
   "cell_type": "code",
   "execution_count": 68,
   "id": "75a19982-92c7-4cf8-a648-f343bcf28170",
   "metadata": {},
   "outputs": [
    {
     "data": {
      "text/plain": [
       "5"
      ]
     },
     "execution_count": 68,
     "metadata": {},
     "output_type": "execute_result"
    }
   ],
   "source": [
    "np.random.randint(4,19)"
   ]
  },
  {
   "cell_type": "code",
   "execution_count": 69,
   "id": "98871f59-3e7a-4ca6-ae40-bdb10545668a",
   "metadata": {},
   "outputs": [
    {
     "data": {
      "text/plain": [
       "array([12, 18, 18, 17])"
      ]
     },
     "execution_count": 69,
     "metadata": {},
     "output_type": "execute_result"
    }
   ],
   "source": [
    "np.random.randint(2,20,4)"
   ]
  },
  {
   "cell_type": "code",
   "execution_count": 1,
   "id": "138e3146-e5e6-49f1-adbf-c84f3aacf2d5",
   "metadata": {},
   "outputs": [
    {
     "data": {
      "text/plain": [
       "array([1, 2, 3])"
      ]
     },
     "execution_count": 1,
     "metadata": {},
     "output_type": "execute_result"
    }
   ],
   "source": [
    "#create array using numy\n",
    "\n",
    "import numpy as np\n",
    "\n",
    "array1 = np.array([1,2,3])\n",
    "array1"
   ]
  },
  {
   "cell_type": "code",
   "execution_count": 7,
   "id": "476e9e28-a3ac-479e-8a8d-212d8eb83598",
   "metadata": {},
   "outputs": [
    {
     "name": "stdout",
     "output_type": "stream",
     "text": [
      "42\n"
     ]
    }
   ],
   "source": [
    "import numpy as np\n",
    "arr=np.array(42)\n",
    "print(arr)"
   ]
  },
  {
   "cell_type": "code",
   "execution_count": 15,
   "id": "90bce303-7607-4fac-b296-2fa5cf8d1b47",
   "metadata": {},
   "outputs": [
    {
     "name": "stdout",
     "output_type": "stream",
     "text": [
      "[[1 2 3]\n",
      " [4 5 6]]\n"
     ]
    }
   ],
   "source": [
    "#2D array\n",
    "\n",
    "import numpy as np\n",
    "darray=np.array([[1,2,3],[4,5,6]])\n",
    "print(darray)"
   ]
  },
  {
   "cell_type": "code",
   "execution_count": 20,
   "id": "0688afc0-0ce5-4df1-bd6d-3d39f185e8b6",
   "metadata": {},
   "outputs": [
    {
     "name": "stdout",
     "output_type": "stream",
     "text": [
      "[[[ 1  2  3  4]\n",
      "  [ 5  6  7  8]]\n",
      "\n",
      " [[13 14 15 16]\n",
      "  [17 18 19 20]]]\n"
     ]
    }
   ],
   "source": [
    "#3D array\n",
    "\n",
    "import numpy as np\n",
    "array=np.array([[[1, 2, 3, 4], [5, 6, 7, 8]],\n",
    "                   [[13, 14, 15, 16], [17, 18, 19, 20]]])\n",
    "\n",
    "print (array)"
   ]
  },
  {
   "cell_type": "code",
   "execution_count": 21,
   "id": "6233230b-b7c6-404c-8a6e-08133d85a6e3",
   "metadata": {},
   "outputs": [
    {
     "data": {
      "text/plain": [
       "array([8, 1, 5, 5, 5, 2, 1, 8, 8, 5])"
      ]
     },
     "execution_count": 21,
     "metadata": {},
     "output_type": "execute_result"
    }
   ],
   "source": [
    "import numpy\n",
    "\n",
    "np.random.randint(1,12,10)   #create random 10 values between 1, 12 "
   ]
  },
  {
   "cell_type": "code",
   "execution_count": 22,
   "id": "2aa148cf-acbe-423f-8d7c-9bb296287c81",
   "metadata": {},
   "outputs": [
    {
     "data": {
      "text/plain": [
       "array([[36, 32, 10, 15, 24, 31, 22, 12, 37, 34],\n",
       "       [34, 23, 35, 29, 33, 11, 12, 16, 15, 29],\n",
       "       [33, 31, 23, 22, 19, 24, 36, 36, 20, 35],\n",
       "       [20, 10, 17, 31, 13, 18, 21, 20, 25, 14],\n",
       "       [15, 11, 14, 21, 16, 20, 17, 12, 10, 16],\n",
       "       [11, 32, 34, 20, 31, 31, 30, 30, 21, 33],\n",
       "       [22, 15, 21, 28, 19, 31, 39, 14, 36, 37],\n",
       "       [13, 25, 12, 27, 22, 15, 35, 19, 18, 18],\n",
       "       [39, 25, 35, 24, 21, 33, 24, 16, 29, 16],\n",
       "       [17, 18, 34, 31, 25, 14, 33, 38, 38, 24]])"
      ]
     },
     "execution_count": 22,
     "metadata": {},
     "output_type": "execute_result"
    }
   ],
   "source": [
    "import numpy\n",
    "\n",
    "np.random.randint(10,40,(10,10))   # generate 10x10 matrix with elements between 10 to 40"
   ]
  },
  {
   "cell_type": "code",
   "execution_count": 23,
   "id": "dd60b076-1f24-4a10-a1c7-f375315ec9b4",
   "metadata": {},
   "outputs": [
    {
     "data": {
      "text/plain": [
       "array([ 1,  2,  3,  4,  5,  6,  7,  8,  9, 10, 11, 12])"
      ]
     },
     "execution_count": 23,
     "metadata": {},
     "output_type": "execute_result"
    }
   ],
   "source": [
    "np.arange(1,13)"
   ]
  },
  {
   "cell_type": "code",
   "execution_count": 25,
   "id": "d0415b7b-b0d0-4339-8ede-bea7e0873dec",
   "metadata": {},
   "outputs": [
    {
     "data": {
      "text/plain": [
       "array([[ 1,  2,  3,  4],\n",
       "       [ 5,  6,  7,  8],\n",
       "       [ 9, 10, 11, 12]])"
      ]
     },
     "execution_count": 25,
     "metadata": {},
     "output_type": "execute_result"
    }
   ],
   "source": [
    "np.arange(1,13).reshape(3,4)   # arrange elements beween 1 to 13 in 3x4 rows and colums"
   ]
  },
  {
   "cell_type": "code",
   "execution_count": 26,
   "id": "d0ce7c99-df5c-45ab-84fa-e2b75f78ee25",
   "metadata": {},
   "outputs": [
    {
     "data": {
      "text/plain": [
       "array([[ 1,  2,  3],\n",
       "       [ 4,  5,  6],\n",
       "       [ 7,  8,  9],\n",
       "       [10, 11, 12]])"
      ]
     },
     "execution_count": 26,
     "metadata": {},
     "output_type": "execute_result"
    }
   ],
   "source": [
    "np.arange(1,13).reshape(4,3)  # 4X3 matrix"
   ]
  },
  {
   "cell_type": "code",
   "execution_count": 28,
   "id": "02b8d607-ce49-4f0b-9d63-a99c118cf59a",
   "metadata": {},
   "outputs": [
    {
     "data": {
      "text/plain": [
       "array([[30, 11, 14, 35],\n",
       "       [11, 36, 26, 21],\n",
       "       [30, 28, 39, 24],\n",
       "       [30, 18, 37, 37],\n",
       "       [22, 28, 39, 34]])"
      ]
     },
     "execution_count": 28,
     "metadata": {},
     "output_type": "execute_result"
    }
   ],
   "source": [
    "b=np.random.randint(10, 40, (5,4))\n",
    "b"
   ]
  },
  {
   "cell_type": "code",
   "execution_count": 31,
   "id": "136bac9f-e71f-446c-b0cc-b1ffa8a0308a",
   "metadata": {},
   "outputs": [
    {
     "data": {
      "text/plain": [
       "array([[30, 11, 14, 35],\n",
       "       [11, 36, 26, 21],\n",
       "       [30, 28, 39, 24],\n",
       "       [30, 18, 37, 37],\n",
       "       [22, 28, 39, 34]])"
      ]
     },
     "execution_count": 31,
     "metadata": {},
     "output_type": "execute_result"
    }
   ],
   "source": [
    "b[:]"
   ]
  },
  {
   "cell_type": "code",
   "execution_count": 32,
   "id": "e181e6f1-b34a-4c0f-a57e-832ea27f7074",
   "metadata": {},
   "outputs": [
    {
     "data": {
      "text/plain": [
       "array([[11, 36, 26, 21],\n",
       "       [30, 28, 39, 24]])"
      ]
     },
     "execution_count": 32,
     "metadata": {},
     "output_type": "execute_result"
    }
   ],
   "source": [
    "b[1:3]  # displays rows 1 and 2 "
   ]
  },
  {
   "cell_type": "code",
   "execution_count": 34,
   "id": "d9f42a15-5869-45aa-a448-7f747488b990",
   "metadata": {},
   "outputs": [
    {
     "data": {
      "text/plain": [
       "21"
      ]
     },
     "execution_count": 34,
     "metadata": {},
     "output_type": "execute_result"
    }
   ],
   "source": [
    "b[1,3]  # row 1, col 3rd "
   ]
  },
  {
   "cell_type": "code",
   "execution_count": 35,
   "id": "df7d8768-d471-46ec-b66c-5a2c0458f84d",
   "metadata": {},
   "outputs": [
    {
     "data": {
      "text/plain": [
       "21"
      ]
     },
     "execution_count": 35,
     "metadata": {},
     "output_type": "execute_result"
    }
   ],
   "source": [
    "b[1,-1]"
   ]
  },
  {
   "cell_type": "code",
   "execution_count": 37,
   "id": "4bee17f2-4a6f-4c82-8839-817fa10260cf",
   "metadata": {},
   "outputs": [
    {
     "data": {
      "text/plain": [
       "array([[30, 28, 39, 24]])"
      ]
     },
     "execution_count": 37,
     "metadata": {},
     "output_type": "execute_result"
    }
   ],
   "source": [
    "b[2:3]"
   ]
  },
  {
   "cell_type": "code",
   "execution_count": 38,
   "id": "64a440ad-84c6-4eea-b5d4-ae73208cf67c",
   "metadata": {},
   "outputs": [
    {
     "data": {
      "text/plain": [
       "35"
      ]
     },
     "execution_count": 38,
     "metadata": {},
     "output_type": "execute_result"
    }
   ],
   "source": [
    "b[-5,3]"
   ]
  },
  {
   "cell_type": "raw",
   "id": "233d1267-54f7-4f0b-b6ea-d08dfbdf241e",
   "metadata": {},
   "source": []
  },
  {
   "cell_type": "code",
   "execution_count": 3,
   "id": "ef7361bd-3c40-42b5-94aa-6af93d32e865",
   "metadata": {},
   "outputs": [
    {
     "name": "stdout",
     "output_type": "stream",
     "text": [
      "[[ 9 47 40 17 15 76 96 68  4 32]\n",
      " [17 18 46 93 25 65 42 54 34  1]\n",
      " [67 62 44 42 43 48 27 52 66 35]\n",
      " [54 23 11 61 49 86 30 87 53 60]\n",
      " [18 36 75 64 23 71 28 80 13  0]\n",
      " [ 0 46 96 22 17 87 65 81 46 28]\n",
      " [ 1  9 66 38 79 19 32 11 25 81]\n",
      " [30 35 79 66 17 38 35 88 91 85]\n",
      " [73 94 94 47 80 57 26 84 86 66]\n",
      " [76 31 76 73 70  3 45  5 45 62]]\n"
     ]
    }
   ],
   "source": [
    "import numpy as np\n",
    "arr2 = np.random.randint(0,100,(10,10))\n",
    "print(arr2)"
   ]
  },
  {
   "cell_type": "code",
   "execution_count": 4,
   "id": "c005fdac-1a1e-4264-be08-f7deca861468",
   "metadata": {},
   "outputs": [
    {
     "data": {
      "text/plain": [
       "array([[ 9, 47, 40, 17, 15, 76, 96, 68,  4, 32],\n",
       "       [54, 23, 11, 61, 49, 86, 30, 87, 53, 60],\n",
       "       [ 1,  9, 66, 38, 79, 19, 32, 11, 25, 81],\n",
       "       [76, 31, 76, 73, 70,  3, 45,  5, 45, 62]])"
      ]
     },
     "execution_count": 4,
     "metadata": {},
     "output_type": "execute_result"
    }
   ],
   "source": [
    "arr2[0:10:3]"
   ]
  },
  {
   "cell_type": "code",
   "execution_count": 6,
   "id": "a2a96b0d-7451-43eb-abbc-203dbd3908f1",
   "metadata": {},
   "outputs": [
    {
     "data": {
      "text/plain": [
       "96"
      ]
     },
     "execution_count": 6,
     "metadata": {},
     "output_type": "execute_result"
    }
   ],
   "source": [
    "arr2.max()"
   ]
  },
  {
   "cell_type": "code",
   "execution_count": 10,
   "id": "e6bb52a4-dacc-4558-ab30-27daa3db92da",
   "metadata": {},
   "outputs": [
    {
     "ename": "TypeError",
     "evalue": "unsupported operand type(s) for /: 'int' and 'tuple'",
     "output_type": "error",
     "traceback": [
      "\u001b[1;31m---------------------------------------------------------------------------\u001b[0m",
      "\u001b[1;31mTypeError\u001b[0m                                 Traceback (most recent call last)",
      "Cell \u001b[1;32mIn[10], line 2\u001b[0m\n\u001b[0;32m      1\u001b[0m \u001b[38;5;28;01mimport\u001b[39;00m \u001b[38;5;21;01mnumpy\u001b[39;00m \u001b[38;5;28;01mas\u001b[39;00m \u001b[38;5;21;01mnp\u001b[39;00m\n\u001b[1;32m----> 2\u001b[0m arr \u001b[38;5;241m=\u001b[39m np\u001b[38;5;241m.\u001b[39marange(\u001b[38;5;241m0\u001b[39m,\u001b[38;5;241m100\u001b[39m,(\u001b[38;5;241m10\u001b[39m,\u001b[38;5;241m10\u001b[39m))\n\u001b[0;32m      3\u001b[0m arr\n",
      "\u001b[1;31mTypeError\u001b[0m: unsupported operand type(s) for /: 'int' and 'tuple'"
     ]
    }
   ],
   "source": [
    "import numpy as np\n",
    "arr = np.arange(0,100,(10,10))\n",
    "arr"
   ]
  },
  {
   "cell_type": "markdown",
   "id": "ed6602fb-d79d-4364-a5c4-63b1093d2e7f",
   "metadata": {},
   "source": []
  }
 ],
 "metadata": {
  "kernelspec": {
   "display_name": "Python [conda env:base] *",
   "language": "python",
   "name": "conda-base-py"
  },
  "language_info": {
   "codemirror_mode": {
    "name": "ipython",
    "version": 3
   },
   "file_extension": ".py",
   "mimetype": "text/x-python",
   "name": "python",
   "nbconvert_exporter": "python",
   "pygments_lexer": "ipython3",
   "version": "3.12.7"
  }
 },
 "nbformat": 4,
 "nbformat_minor": 5
}
